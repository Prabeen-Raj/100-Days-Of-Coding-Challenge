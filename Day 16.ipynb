{
  "nbformat": 4,
  "nbformat_minor": 0,
  "metadata": {
    "colab": {
      "name": "Day 16.ipynb",
      "provenance": [],
      "authorship_tag": "ABX9TyOabSKsHwVTz7AqhKXbsI0Y",
      "include_colab_link": true
    },
    "kernelspec": {
      "name": "python3",
      "display_name": "Python 3"
    },
    "language_info": {
      "name": "python"
    }
  },
  "cells": [
    {
      "cell_type": "markdown",
      "metadata": {
        "id": "view-in-github",
        "colab_type": "text"
      },
      "source": [
        "<a href=\"https://colab.research.google.com/github/Prabeen-Raj/100-Days-Of-Coding-Challenge/blob/main/Day%2016.ipynb\" target=\"_parent\"><img src=\"https://colab.research.google.com/assets/colab-badge.svg\" alt=\"Open In Colab\"/></a>"
      ]
    },
    {
      "cell_type": "markdown",
      "metadata": {
        "id": "pI5fRsVXp2ZO"
      },
      "source": [
        "Factorial of number"
      ]
    },
    {
      "cell_type": "code",
      "metadata": {
        "colab": {
          "base_uri": "https://localhost:8080/"
        },
        "id": "GIj092kPpCHI",
        "outputId": "df91f40f-6140-4f42-ed92-8e0a9b9a5440"
      },
      "source": [
        "num = input('Enter the number: ')\n",
        "sum = 1\n",
        "for i in range(1,int(num)+1):\n",
        "  sum *= i\n",
        "\n",
        "print(sum)"
      ],
      "execution_count": 5,
      "outputs": [
        {
          "output_type": "stream",
          "name": "stdout",
          "text": [
            "Enter the number: 5\n",
            "120\n"
          ]
        }
      ]
    },
    {
      "cell_type": "markdown",
      "metadata": {
        "id": "hpJoyr9rp8sC"
      },
      "source": [
        "Amstrong or not "
      ]
    },
    {
      "cell_type": "code",
      "metadata": {
        "colab": {
          "base_uri": "https://localhost:8080/"
        },
        "id": "0kp4enoEp1aH",
        "outputId": "195ab443-af62-4194-e617-ad911e76aedc"
      },
      "source": [
        "num  = input('Enter the number: ')\n",
        "len1 = len(num)\n",
        "sum  = 0\n",
        "for i in num:\n",
        "  sum += pow(int(i),int(len1))\n",
        "print(sum)\n",
        "\n",
        "if int(sum) == int(num):\n",
        "  print(\"Yes it's Amstrong\")\n",
        "else:\n",
        "  print(\"It's not Amstrong\")"
      ],
      "execution_count": 11,
      "outputs": [
        {
          "output_type": "stream",
          "name": "stdout",
          "text": [
            "Enter the number: 153\n",
            "153\n",
            "Yes it's Amstrong\n"
          ]
        }
      ]
    },
    {
      "cell_type": "markdown",
      "metadata": {
        "id": "H6D-Y03XxhWh"
      },
      "source": [
        "Prime Number or not"
      ]
    },
    {
      "cell_type": "code",
      "metadata": {
        "colab": {
          "base_uri": "https://localhost:8080/"
        },
        "id": "9PQGWtcyxsm7",
        "outputId": "dc1169e0-4164-4fb1-beed-f63f57b040ad"
      },
      "source": [
        "num = int(input('Enter the number: '))\n",
        "for i in range(2,num):\n",
        "  if num%i == 0:\n",
        "    print('It is not a Prime Number')\n",
        "    break\n",
        "else:\n",
        "  print('It is a Prime Number')"
      ],
      "execution_count": 19,
      "outputs": [
        {
          "output_type": "stream",
          "name": "stdout",
          "text": [
            "Enter the number: 5\n",
            "It is a Prime Number\n"
          ]
        }
      ]
    },
    {
      "cell_type": "markdown",
      "metadata": {
        "id": "UEbNVnTgzFxC"
      },
      "source": [
        "Even or not"
      ]
    },
    {
      "cell_type": "code",
      "metadata": {
        "colab": {
          "base_uri": "https://localhost:8080/"
        },
        "id": "h71-1LIazLku",
        "outputId": "76ba528a-4e5f-4ee1-c970-1b9ae73999a7"
      },
      "source": [
        "even = input('Enter the number: ')\n",
        "if int(even)%2==0:\n",
        "  print(even,'is a even number')\n",
        "else:\n",
        "  print(even,'is a odd number')"
      ],
      "execution_count": 23,
      "outputs": [
        {
          "output_type": "stream",
          "name": "stdout",
          "text": [
            "Enter the number: 4\n",
            "4 is a even number\n"
          ]
        }
      ]
    },
    {
      "cell_type": "markdown",
      "metadata": {
        "id": "U89MVpNLzxCA"
      },
      "source": [
        " Palindrome or not"
      ]
    },
    {
      "cell_type": "code",
      "metadata": {
        "colab": {
          "base_uri": "https://localhost:8080/"
        },
        "id": "HH0chX3lzyz-",
        "outputId": "0189ebb2-e64e-41ff-edae-98c0e70979f7"
      },
      "source": [
        "string  = input('Enter the text: ')\n",
        "new_str = string[::-1]\n",
        "if string == new_str:\n",
        "  print(string,'is a Palindrome')\n",
        "else:\n",
        "  print(string,'is not a Palindrome')"
      ],
      "execution_count": 26,
      "outputs": [
        {
          "output_type": "stream",
          "name": "stdout",
          "text": [
            "Enter the text: RACECAR\n",
            "RACECAR is a Palindrome\n"
          ]
        }
      ]
    },
    {
      "cell_type": "markdown",
      "metadata": {
        "id": "Aooe0AxR04E7"
      },
      "source": [
        "Circumference Of Cirle\n"
      ]
    },
    {
      "cell_type": "code",
      "metadata": {
        "colab": {
          "base_uri": "https://localhost:8080/"
        },
        "id": "cWQhoqBr09Jn",
        "outputId": "59bbd7f9-5141-42f6-b2f7-df66c324a079"
      },
      "source": [
        "radius = int(input('Enter the radius: '))\n",
        "pi     = 3.1415\n",
        "formula = 2*pi*radius\n",
        "print(formula)"
      ],
      "execution_count": 31,
      "outputs": [
        {
          "output_type": "stream",
          "name": "stdout",
          "text": [
            "Enter the radius: 5\n",
            "31.415000000000003\n"
          ]
        }
      ]
    },
    {
      "cell_type": "markdown",
      "metadata": {
        "id": "xr4I35aC9ZRe"
      },
      "source": [
        "Area of circle"
      ]
    },
    {
      "cell_type": "code",
      "metadata": {
        "colab": {
          "base_uri": "https://localhost:8080/"
        },
        "id": "4mlNkq6q9bqn",
        "outputId": "e27f4e33-9793-4ac1-cdd9-ed6f097831d1"
      },
      "source": [
        "r = int(input('Enter the radius: '))\n",
        "pi = 3.1415\n",
        "formula = pi*(r**2)\n",
        "print(formula)"
      ],
      "execution_count": 32,
      "outputs": [
        {
          "output_type": "stream",
          "name": "stdout",
          "text": [
            "Enter the radius: 5\n",
            "78.53750000000001\n"
          ]
        }
      ]
    },
    {
      "cell_type": "markdown",
      "metadata": {
        "id": "C_1j-CXJ-anx"
      },
      "source": [
        "Area of rectangle"
      ]
    },
    {
      "cell_type": "code",
      "metadata": {
        "colab": {
          "base_uri": "https://localhost:8080/"
        },
        "id": "iWnCyKk4-chF",
        "outputId": "31a226de-d3aa-4abc-e0de-17d2bde88dd0"
      },
      "source": [
        "l,b = map(int,input().split())\n",
        "area = int(l)*int(b)\n",
        "print(area)"
      ],
      "execution_count": 35,
      "outputs": [
        {
          "output_type": "stream",
          "name": "stdout",
          "text": [
            "10 8\n",
            "80\n"
          ]
        }
      ]
    },
    {
      "cell_type": "markdown",
      "metadata": {
        "id": "IndvGVmj-9sv"
      },
      "source": [
        "Perimeter of rectangle"
      ]
    },
    {
      "cell_type": "code",
      "metadata": {
        "colab": {
          "base_uri": "https://localhost:8080/"
        },
        "id": "k8sQhpah_B-X",
        "outputId": "3403983b-7aae-43b6-814c-844e3490889e"
      },
      "source": [
        "l,b = map(int,input().split())\n",
        "perimeter = 2*(int(l)+int(b))\n",
        "print(perimeter)"
      ],
      "execution_count": 36,
      "outputs": [
        {
          "output_type": "stream",
          "name": "stdout",
          "text": [
            "30 80\n",
            "220\n"
          ]
        }
      ]
    },
    {
      "cell_type": "markdown",
      "metadata": {
        "id": "qP_XNiCWA7QI"
      },
      "source": [
        "Area of square "
      ]
    },
    {
      "cell_type": "code",
      "metadata": {
        "colab": {
          "base_uri": "https://localhost:8080/"
        },
        "id": "TJ9g_fZAA-ct",
        "outputId": "5fa117ae-eb43-492b-a3a0-5166c209a96b"
      },
      "source": [
        "a = int(input('Enter the lenght of sides: '))\n",
        "formula = a**2\n",
        "print(formula)\n"
      ],
      "execution_count": 37,
      "outputs": [
        {
          "output_type": "stream",
          "name": "stdout",
          "text": [
            "Enter the lenght of sides: 4\n",
            "16\n"
          ]
        }
      ]
    }
  ]
}