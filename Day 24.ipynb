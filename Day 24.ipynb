{
  "nbformat": 4,
  "nbformat_minor": 0,
  "metadata": {
    "colab": {
      "name": "Day 24.ipynb",
      "provenance": [],
      "authorship_tag": "ABX9TyMNUFtUQLGZMJL78C+GYjW9",
      "include_colab_link": true
    },
    "kernelspec": {
      "name": "python3",
      "display_name": "Python 3"
    },
    "language_info": {
      "name": "python"
    }
  },
  "cells": [
    {
      "cell_type": "markdown",
      "metadata": {
        "id": "view-in-github",
        "colab_type": "text"
      },
      "source": [
        "<a href=\"https://colab.research.google.com/github/Prabeen-Raj/100-Days-Of-Coding-Challenge/blob/main/Day%2024.ipynb\" target=\"_parent\"><img src=\"https://colab.research.google.com/assets/colab-badge.svg\" alt=\"Open In Colab\"/></a>"
      ]
    },
    {
      "cell_type": "code",
      "metadata": {
        "colab": {
          "base_uri": "https://localhost:8080/"
        },
        "id": "GJNXcIrjWucJ",
        "outputId": "6c24c3e2-065f-4fd0-e54b-8d8fc453a0ca"
      },
      "source": [
        "import time\n",
        " \n",
        "for i in range(5):\n",
        " time.sleep(1)\n",
        " print('Tick')"
      ],
      "execution_count": 2,
      "outputs": [
        {
          "output_type": "stream",
          "name": "stdout",
          "text": [
            "Tick\n",
            "Tick\n",
            "Tick\n",
            "Tick\n",
            "Tick\n"
          ]
        }
      ]
    },
    {
      "cell_type": "code",
      "metadata": {
        "colab": {
          "base_uri": "https://localhost:8080/",
          "height": 1000
        },
        "id": "Qp_YOfdkW7gW",
        "outputId": "17b29416-c10d-4193-e114-e61954a658cf"
      },
      "source": [
        "import time\n",
        "hour = int(input(\"Type in the current hour:\"))\n",
        "minute = int(input(\"Type in the current minute:\"))\n",
        "second = int(input(\"Type in the current second:\"))\n",
        " \n",
        "def display():\n",
        "\tprint(hour, ':', minute, ':', second)\n",
        " \n",
        "def add():\n",
        "\tglobal hour\n",
        "\tglobal minute\n",
        "\tglobal second\n",
        "\t\n",
        "\tsecond=second+1\n",
        "\tif second==60:\n",
        "\t\tminute=minute+1 \n",
        "\t\tsecond=0\n",
        "\tif minute==60:\n",
        "\t\thour=hour+1 \n",
        "\t\tminute=0\n",
        "\tif hour==24:\n",
        "\t\thour=0\n",
        " \n",
        "print('\\n')\n",
        "while True:\n",
        "\ttime.sleep(1)\n",
        "\tadd()\n",
        "\tdisplay()"
      ],
      "execution_count": 3,
      "outputs": [
        {
          "output_type": "stream",
          "name": "stdout",
          "text": [
            "Type in the current hour:08\n",
            "Type in the current minute:58\n",
            "Type in the current second:20\n",
            "\n",
            "\n",
            "8 : 58 : 21\n",
            "8 : 58 : 22\n",
            "8 : 58 : 23\n",
            "8 : 58 : 24\n",
            "8 : 58 : 25\n",
            "8 : 58 : 26\n",
            "8 : 58 : 27\n",
            "8 : 58 : 28\n",
            "8 : 58 : 29\n",
            "8 : 58 : 30\n",
            "8 : 58 : 31\n",
            "8 : 58 : 32\n",
            "8 : 58 : 33\n",
            "8 : 58 : 34\n",
            "8 : 58 : 35\n",
            "8 : 58 : 36\n",
            "8 : 58 : 37\n",
            "8 : 58 : 38\n",
            "8 : 58 : 39\n",
            "8 : 58 : 40\n",
            "8 : 58 : 41\n",
            "8 : 58 : 42\n",
            "8 : 58 : 43\n",
            "8 : 58 : 44\n",
            "8 : 58 : 45\n",
            "8 : 58 : 46\n",
            "8 : 58 : 47\n",
            "8 : 58 : 48\n",
            "8 : 58 : 49\n",
            "8 : 58 : 50\n",
            "8 : 58 : 51\n",
            "8 : 58 : 52\n",
            "8 : 58 : 53\n",
            "8 : 58 : 54\n",
            "8 : 58 : 55\n",
            "8 : 58 : 56\n",
            "8 : 58 : 57\n",
            "8 : 58 : 58\n",
            "8 : 58 : 59\n",
            "8 : 59 : 0\n",
            "8 : 59 : 1\n",
            "8 : 59 : 2\n",
            "8 : 59 : 3\n",
            "8 : 59 : 4\n",
            "8 : 59 : 5\n",
            "8 : 59 : 6\n",
            "8 : 59 : 7\n",
            "8 : 59 : 8\n",
            "8 : 59 : 9\n",
            "8 : 59 : 10\n",
            "8 : 59 : 11\n",
            "8 : 59 : 12\n",
            "8 : 59 : 13\n",
            "8 : 59 : 14\n",
            "8 : 59 : 15\n",
            "8 : 59 : 16\n",
            "8 : 59 : 17\n",
            "8 : 59 : 18\n",
            "8 : 59 : 19\n",
            "8 : 59 : 20\n",
            "8 : 59 : 21\n",
            "8 : 59 : 22\n",
            "8 : 59 : 23\n",
            "8 : 59 : 24\n",
            "8 : 59 : 25\n",
            "8 : 59 : 26\n",
            "8 : 59 : 27\n",
            "8 : 59 : 28\n",
            "8 : 59 : 29\n",
            "8 : 59 : 30\n",
            "8 : 59 : 31\n",
            "8 : 59 : 32\n",
            "8 : 59 : 33\n",
            "8 : 59 : 34\n"
          ]
        },
        {
          "output_type": "error",
          "ename": "KeyboardInterrupt",
          "evalue": "ignored",
          "traceback": [
            "\u001b[0;31m---------------------------------------------------------------------------\u001b[0m",
            "\u001b[0;31mKeyboardInterrupt\u001b[0m                         Traceback (most recent call last)",
            "\u001b[0;32m<ipython-input-3-ec717c221674>\u001b[0m in \u001b[0;36m<module>\u001b[0;34m()\u001b[0m\n\u001b[1;32m     24\u001b[0m \u001b[0mprint\u001b[0m\u001b[0;34m(\u001b[0m\u001b[0;34m'\\n'\u001b[0m\u001b[0;34m)\u001b[0m\u001b[0;34m\u001b[0m\u001b[0;34m\u001b[0m\u001b[0m\n\u001b[1;32m     25\u001b[0m \u001b[0;32mwhile\u001b[0m \u001b[0;32mTrue\u001b[0m\u001b[0;34m:\u001b[0m\u001b[0;34m\u001b[0m\u001b[0;34m\u001b[0m\u001b[0m\n\u001b[0;32m---> 26\u001b[0;31m         \u001b[0mtime\u001b[0m\u001b[0;34m.\u001b[0m\u001b[0msleep\u001b[0m\u001b[0;34m(\u001b[0m\u001b[0;36m1\u001b[0m\u001b[0;34m)\u001b[0m\u001b[0;34m\u001b[0m\u001b[0;34m\u001b[0m\u001b[0m\n\u001b[0m\u001b[1;32m     27\u001b[0m         \u001b[0madd\u001b[0m\u001b[0;34m(\u001b[0m\u001b[0;34m)\u001b[0m\u001b[0;34m\u001b[0m\u001b[0;34m\u001b[0m\u001b[0m\n\u001b[1;32m     28\u001b[0m         \u001b[0mdisplay\u001b[0m\u001b[0;34m(\u001b[0m\u001b[0;34m)\u001b[0m\u001b[0;34m\u001b[0m\u001b[0;34m\u001b[0m\u001b[0m\n",
            "\u001b[0;31mKeyboardInterrupt\u001b[0m: "
          ]
        }
      ]
    },
    {
      "cell_type": "code",
      "metadata": {
        "colab": {
          "base_uri": "https://localhost:8080/"
        },
        "id": "hxVpNZo7q9Wd",
        "outputId": "59f5dc9e-7dcf-49ba-d69b-e50f9c044485"
      },
      "source": [
        "def climbing_staircase(steps, height):\n",
        "    dp = [0 for i in range(height)]\n",
        "\n",
        "    # add all steps into dp\n",
        "    for s in steps:\n",
        "        if s <= height:\n",
        "            dp[s - 1] = 1\n",
        "\n",
        "    # for each position look how you can arrive there\n",
        "    for i in range(height):\n",
        "        for s in steps:\n",
        "            if i - s >= 0:\n",
        "                dp[i] += dp[i - s]\n",
        "\n",
        "    return dp[height - 1]\n",
        "\n",
        "\n",
        "###########\n",
        "# Testing #\n",
        "###########\n",
        "\n",
        "# Test 1\n",
        "# Correct result => 5\n",
        "print(climbing_staircase([1, 2], 4))\n",
        "\n",
        "# Test 2\n",
        "# Correct result => 3\n",
        "print(climbing_staircase([1, 3, 5], 4))"
      ],
      "execution_count": 1,
      "outputs": [
        {
          "output_type": "stream",
          "name": "stdout",
          "text": [
            "5\n",
            "3\n"
          ]
        }
      ]
    },
    {
      "cell_type": "code",
      "metadata": {
        "colab": {
          "base_uri": "https://localhost:8080/",
          "height": 322
        },
        "id": "BZd7JuHEZgj6",
        "outputId": "0b0f488d-212e-4140-af09-2f086e3b9d15"
      },
      "source": [
        "class Solution(object):\n",
        "\n",
        "    def intToRoman(self, num):\n",
        "        values = [1000, 900, 500, 400,\n",
        "                  100, 90, 50, 40,\n",
        "                  10, 9, 5, 4, 1]\n",
        "        symbols = [\"M\", \"CM\", \"D\", \"CD\",\n",
        "                   \"C\", \"XC\", \"L\", \"XL\",\n",
        "                   \"X\", \"IX\", \"V\", \"IV\",\n",
        "                   \"I\"]\n",
        "        roman = ''\n",
        "        i = 0\n",
        "        while num > 0:\n",
        "            k = num / values[i]\n",
        "            for j in range(k):\n",
        "                roman += symbols[i]\n",
        "                num -= values[i]\n",
        "            i += 1\n",
        "        return roman\n",
        "\n",
        "if __name__ == '__main__':\n",
        "    # begin\n",
        "    s = Solution()\n",
        "    print(s.intToRoman(90)) "
      ],
      "execution_count": 5,
      "outputs": [
        {
          "output_type": "error",
          "ename": "TypeError",
          "evalue": "ignored",
          "traceback": [
            "\u001b[0;31m---------------------------------------------------------------------------\u001b[0m",
            "\u001b[0;31mTypeError\u001b[0m                                 Traceback (most recent call last)",
            "\u001b[0;32m<ipython-input-5-8c49b7810ee0>\u001b[0m in \u001b[0;36m<module>\u001b[0;34m()\u001b[0m\n\u001b[1;32m     22\u001b[0m     \u001b[0;31m# begin\u001b[0m\u001b[0;34m\u001b[0m\u001b[0;34m\u001b[0m\u001b[0;34m\u001b[0m\u001b[0m\n\u001b[1;32m     23\u001b[0m     \u001b[0ms\u001b[0m \u001b[0;34m=\u001b[0m \u001b[0mSolution\u001b[0m\u001b[0;34m(\u001b[0m\u001b[0;34m)\u001b[0m\u001b[0;34m\u001b[0m\u001b[0;34m\u001b[0m\u001b[0m\n\u001b[0;32m---> 24\u001b[0;31m     \u001b[0mprint\u001b[0m\u001b[0;34m(\u001b[0m\u001b[0ms\u001b[0m\u001b[0;34m.\u001b[0m\u001b[0mintToRoman\u001b[0m\u001b[0;34m(\u001b[0m\u001b[0;36m90\u001b[0m\u001b[0;34m)\u001b[0m\u001b[0;34m)\u001b[0m\u001b[0;34m\u001b[0m\u001b[0;34m\u001b[0m\u001b[0m\n\u001b[0m",
            "\u001b[0;32m<ipython-input-5-8c49b7810ee0>\u001b[0m in \u001b[0;36mintToRoman\u001b[0;34m(self, num)\u001b[0m\n\u001b[1;32m     13\u001b[0m         \u001b[0;32mwhile\u001b[0m \u001b[0mnum\u001b[0m \u001b[0;34m>\u001b[0m \u001b[0;36m0\u001b[0m\u001b[0;34m:\u001b[0m\u001b[0;34m\u001b[0m\u001b[0;34m\u001b[0m\u001b[0m\n\u001b[1;32m     14\u001b[0m             \u001b[0mk\u001b[0m \u001b[0;34m=\u001b[0m \u001b[0mnum\u001b[0m \u001b[0;34m/\u001b[0m \u001b[0mvalues\u001b[0m\u001b[0;34m[\u001b[0m\u001b[0mi\u001b[0m\u001b[0;34m]\u001b[0m\u001b[0;34m\u001b[0m\u001b[0;34m\u001b[0m\u001b[0m\n\u001b[0;32m---> 15\u001b[0;31m             \u001b[0;32mfor\u001b[0m \u001b[0mj\u001b[0m \u001b[0;32min\u001b[0m \u001b[0mrange\u001b[0m\u001b[0;34m(\u001b[0m\u001b[0mk\u001b[0m\u001b[0;34m)\u001b[0m\u001b[0;34m:\u001b[0m\u001b[0;34m\u001b[0m\u001b[0;34m\u001b[0m\u001b[0m\n\u001b[0m\u001b[1;32m     16\u001b[0m                 \u001b[0mroman\u001b[0m \u001b[0;34m+=\u001b[0m \u001b[0msymbols\u001b[0m\u001b[0;34m[\u001b[0m\u001b[0mi\u001b[0m\u001b[0;34m]\u001b[0m\u001b[0;34m\u001b[0m\u001b[0;34m\u001b[0m\u001b[0m\n\u001b[1;32m     17\u001b[0m                 \u001b[0mnum\u001b[0m \u001b[0;34m-=\u001b[0m \u001b[0mvalues\u001b[0m\u001b[0;34m[\u001b[0m\u001b[0mi\u001b[0m\u001b[0;34m]\u001b[0m\u001b[0;34m\u001b[0m\u001b[0;34m\u001b[0m\u001b[0m\n",
            "\u001b[0;31mTypeError\u001b[0m: 'float' object cannot be interpreted as an integer"
          ]
        }
      ]
    }
  ]
}