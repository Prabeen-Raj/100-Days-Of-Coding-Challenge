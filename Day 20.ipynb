{
  "nbformat": 4,
  "nbformat_minor": 0,
  "metadata": {
    "colab": {
      "name": "Day 20.ipynb",
      "provenance": [],
      "authorship_tag": "ABX9TyOIAmuqhnjxfUzToIuMGQyp",
      "include_colab_link": true
    },
    "kernelspec": {
      "name": "python3",
      "display_name": "Python 3"
    },
    "language_info": {
      "name": "python"
    }
  },
  "cells": [
    {
      "cell_type": "markdown",
      "metadata": {
        "id": "view-in-github",
        "colab_type": "text"
      },
      "source": [
        "<a href=\"https://colab.research.google.com/github/Prabeen-Raj/100-Days-Of-Coding-Challenge/blob/main/Day%2020.ipynb\" target=\"_parent\"><img src=\"https://colab.research.google.com/assets/colab-badge.svg\" alt=\"Open In Colab\"/></a>"
      ]
    },
    {
      "cell_type": "code",
      "metadata": {
        "colab": {
          "base_uri": "https://localhost:8080/"
        },
        "id": "gJQHmSJYncDU",
        "outputId": "82e31ffc-0b2a-46d7-ebd4-967248b72bab"
      },
      "source": [
        "name = ['h','e','l','l','o']\n",
        "new_str = ''.join(name)\n",
        "print(new_str)"
      ],
      "execution_count": 5,
      "outputs": [
        {
          "output_type": "stream",
          "name": "stdout",
          "text": [
            "hello\n"
          ]
        }
      ]
    },
    {
      "cell_type": "code",
      "metadata": {
        "colab": {
          "base_uri": "https://localhost:8080/"
        },
        "id": "HQiM4GbosMwt",
        "outputId": "464f604c-3d14-4e4a-c885-5ff8fade48fd"
      },
      "source": [
        "print('ENTER YOUR MARKS')\n",
        "tamil   = input ('Enter Tamil Mark: ')\n",
        "maths   = input('Enter Maths Mark: ')\n",
        "science = input('Enter Science Mark: ') \n",
        "social  = input('Enter Social Mark: ')\n",
        "english = input('Enter English Mark: ')\n",
        "\n",
        "average = (int(tamil)+int(maths)+int(science)+int(social)+int(english))/int(5)\n",
        "\n",
        "if average > 90:\n",
        "  print('A Grade')\n",
        "elif average > 80:\n",
        "  print('B Grade')\n",
        "elif average > 70:\n",
        "  print('C Grade')\n",
        "elif average > 60:\n",
        "  print('D Grade')\n",
        "else:\n",
        "  print('Work Hard')\n"
      ],
      "execution_count": 16,
      "outputs": [
        {
          "output_type": "stream",
          "name": "stdout",
          "text": [
            "ENTER YOUR MARKS\n",
            "Enter Tamil Mark: 91\n",
            "Enter Maths Mark: 77\n",
            "Enter Science Mark: 82\n",
            "Enter Social Mark: 79\n",
            "Enter English Mark: 88\n",
            "B Grade\n"
          ]
        }
      ]
    },
    {
      "cell_type": "code",
      "metadata": {
        "colab": {
          "base_uri": "https://localhost:8080/"
        },
        "id": "5Qq0gZWRvkW9",
        "outputId": "46fec9f5-2aa0-4ea8-a4b4-f04d629b9aa6"
      },
      "source": [
        "year = int(input('Enter the Birth Year: '))\n",
        "age  = int(2021)-year\n",
        "print('Your age is',age)"
      ],
      "execution_count": 17,
      "outputs": [
        {
          "output_type": "stream",
          "name": "stdout",
          "text": [
            "Enter the Birth Year: 2000\n",
            "Your age is 21\n"
          ]
        }
      ]
    }
  ]
}