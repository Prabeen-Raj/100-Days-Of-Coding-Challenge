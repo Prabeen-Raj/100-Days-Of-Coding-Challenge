{
  "nbformat": 4,
  "nbformat_minor": 0,
  "metadata": {
    "colab": {
      "name": "Day 11.ipynb",
      "provenance": [],
      "authorship_tag": "ABX9TyOE0wYAVNQOaavjNNWvz9E5",
      "include_colab_link": true
    },
    "kernelspec": {
      "name": "python3",
      "display_name": "Python 3"
    },
    "language_info": {
      "name": "python"
    }
  },
  "cells": [
    {
      "cell_type": "markdown",
      "metadata": {
        "id": "view-in-github",
        "colab_type": "text"
      },
      "source": [
        "<a href=\"https://colab.research.google.com/github/Prabeen-Raj/100-Days-Of-Coding-Challenge/blob/main/Day%2011.ipynb\" target=\"_parent\"><img src=\"https://colab.research.google.com/assets/colab-badge.svg\" alt=\"Open In Colab\"/></a>"
      ]
    },
    {
      "cell_type": "code",
      "metadata": {
        "colab": {
          "base_uri": "https://localhost:8080/"
        },
        "id": "EziYesx6WPN0",
        "outputId": "5e594715-dcb3-4e97-fe2f-6cfac9c51e8d"
      },
      "source": [
        "x = lambda a : a * 2\n",
        "print(x(2))"
      ],
      "execution_count": 1,
      "outputs": [
        {
          "output_type": "stream",
          "name": "stdout",
          "text": [
            "4\n"
          ]
        }
      ]
    },
    {
      "cell_type": "code",
      "metadata": {
        "colab": {
          "base_uri": "https://localhost:8080/"
        },
        "id": "TmNcDqwKWuzW",
        "outputId": "92366fda-4d27-4703-a587-024b3e26094f"
      },
      "source": [
        "y = lambda b : b + 10\n",
        "print(y(10))"
      ],
      "execution_count": 2,
      "outputs": [
        {
          "output_type": "stream",
          "name": "stdout",
          "text": [
            "20\n"
          ]
        }
      ]
    },
    {
      "cell_type": "code",
      "metadata": {
        "colab": {
          "base_uri": "https://localhost:8080/"
        },
        "id": "AwS2CJsvW33K",
        "outputId": "c1fd49fd-1f59-4b6b-f1da-f54502643827"
      },
      "source": [
        "z = lambda a,b: a*b\n",
        "print(z(3,2))"
      ],
      "execution_count": 3,
      "outputs": [
        {
          "output_type": "stream",
          "name": "stdout",
          "text": [
            "6\n"
          ]
        }
      ]
    },
    {
      "cell_type": "code",
      "metadata": {
        "colab": {
          "base_uri": "https://localhost:8080/"
        },
        "id": "T8KGR7swXJ89",
        "outputId": "89b18cfa-762c-4f04-8b59-fc9da994b97e"
      },
      "source": [
        "x = lambda a,b,c : a+b+c\n",
        "print(x(2,2,3))"
      ],
      "execution_count": 4,
      "outputs": [
        {
          "output_type": "stream",
          "name": "stdout",
          "text": [
            "7\n"
          ]
        }
      ]
    },
    {
      "cell_type": "code",
      "metadata": {
        "colab": {
          "base_uri": "https://localhost:8080/"
        },
        "id": "uogXlqC7ZivL",
        "outputId": "0981b4ef-f91c-45bc-feb6-354ddcefc6ca"
      },
      "source": [
        "def myfunc(n):\n",
        "\n",
        "  return lambda a : a * n\n",
        "\n",
        "new_int = myfunc(4)\n",
        "\n",
        "print(new_int(11))"
      ],
      "execution_count": 5,
      "outputs": [
        {
          "output_type": "stream",
          "name": "stdout",
          "text": [
            "44\n"
          ]
        }
      ]
    }
  ]
}