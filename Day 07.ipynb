{
  "nbformat": 4,
  "nbformat_minor": 0,
  "metadata": {
    "colab": {
      "name": "Day 7.ipynb",
      "provenance": [],
      "authorship_tag": "ABX9TyMP2Sgy4+2kCvJUQEoL0wkB",
      "include_colab_link": true
    },
    "kernelspec": {
      "name": "python3",
      "display_name": "Python 3"
    },
    "language_info": {
      "name": "python"
    }
  },
  "cells": [
    {
      "cell_type": "markdown",
      "metadata": {
        "id": "view-in-github",
        "colab_type": "text"
      },
      "source": [
        "<a href=\"https://colab.research.google.com/github/Prabeen-Raj/100-Days-Of-Coding-Challenge/blob/main/Day%207.ipynb\" target=\"_parent\"><img src=\"https://colab.research.google.com/assets/colab-badge.svg\" alt=\"Open In Colab\"/></a>"
      ]
    },
    {
      "cell_type": "code",
      "metadata": {
        "id": "Jq1WbKbtpZ4D"
      },
      "source": [
        "a = 2\n",
        "b = 1\n",
        "c = 2"
      ],
      "execution_count": 4,
      "outputs": []
    },
    {
      "cell_type": "code",
      "metadata": {
        "colab": {
          "base_uri": "https://localhost:8080/"
        },
        "id": "ruv2QfGNpuZl",
        "outputId": "a5153fa3-f917-4981-8e05-b4f0e5448ba9"
      },
      "source": [
        "if a%2==0 :\n",
        "  print('Yes',a,'is even number')\n",
        "else:\n",
        "  print('Yes',a,'is odd number')  "
      ],
      "execution_count": 8,
      "outputs": [
        {
          "output_type": "stream",
          "name": "stdout",
          "text": [
            "Yes 2 is even number\n"
          ]
        }
      ]
    },
    {
      "cell_type": "code",
      "metadata": {
        "colab": {
          "base_uri": "https://localhost:8080/"
        },
        "id": "DL2kwlktp1Gh",
        "outputId": "d4916e6b-0057-47a0-b873-61ee51c2a63e"
      },
      "source": [
        "if a == b:\n",
        "  print('Yes a and b are equal')\n",
        "\n",
        "elif a==c:\n",
        "  print('Yes a and c are equal')  \n"
      ],
      "execution_count": 6,
      "outputs": [
        {
          "output_type": "stream",
          "name": "stdout",
          "text": [
            "Yes a and c are equal\n"
          ]
        }
      ]
    },
    {
      "cell_type": "code",
      "metadata": {
        "colab": {
          "base_uri": "https://localhost:8080/"
        },
        "id": "RnfZOgAmqe4L",
        "outputId": "d7d7b2da-c964-4131-8aef-cd05da5731f4"
      },
      "source": [
        "if b>a:\n",
        "  print('Yes b is greater than a')\n",
        "\n",
        "elif b>c:\n",
        "  print('Yes b is greater than c')\n",
        "\n",
        "else:\n",
        "  print('a and c is greater than b')    "
      ],
      "execution_count": 7,
      "outputs": [
        {
          "output_type": "stream",
          "name": "stdout",
          "text": [
            "a and c is greater than b\n"
          ]
        }
      ]
    },
    {
      "cell_type": "code",
      "metadata": {
        "colab": {
          "base_uri": "https://localhost:8080/"
        },
        "id": "_LNIZw2RrNec",
        "outputId": "ce7f74a7-33f7-4974-bdf2-97f68c3b7d3d"
      },
      "source": [
        "if a==c and a==b:\n",
        "  print('True')\n",
        "\n",
        "else:\n",
        "  print('False')"
      ],
      "execution_count": 12,
      "outputs": [
        {
          "output_type": "stream",
          "name": "stdout",
          "text": [
            "False\n"
          ]
        }
      ]
    },
    {
      "cell_type": "code",
      "metadata": {
        "colab": {
          "base_uri": "https://localhost:8080/"
        },
        "id": "ISHHP2jqr3Dg",
        "outputId": "1a15600d-3f9d-4d80-df29-9b5bcca48c5a"
      },
      "source": [
        "if a==c or a==b:\n",
        "  print('True')\n",
        "\n",
        "else:\n",
        "  print('False')"
      ],
      "execution_count": 13,
      "outputs": [
        {
          "output_type": "stream",
          "name": "stdout",
          "text": [
            "True\n"
          ]
        }
      ]
    },
    {
      "cell_type": "code",
      "metadata": {
        "id": "aN402rD1sB76"
      },
      "source": [
        "if a==b:\n",
        "  print('Yes a and b are equal')\n",
        "\n",
        "  if a==c:\n",
        "    print('Yes a and c are equal')\n",
        "\n",
        "  else:\n",
        "    print('b and c are equal')  "
      ],
      "execution_count": 14,
      "outputs": []
    }
  ]
}
