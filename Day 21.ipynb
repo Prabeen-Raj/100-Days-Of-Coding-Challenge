{
  "nbformat": 4,
  "nbformat_minor": 0,
  "metadata": {
    "colab": {
      "name": "Untitled19.ipynb",
      "provenance": [],
      "authorship_tag": "ABX9TyNAW0bQ6CSpAHYUyAlcAv8B",
      "include_colab_link": true
    },
    "kernelspec": {
      "name": "python3",
      "display_name": "Python 3"
    },
    "language_info": {
      "name": "python"
    }
  },
  "cells": [
    {
      "cell_type": "markdown",
      "metadata": {
        "id": "view-in-github",
        "colab_type": "text"
      },
      "source": [
        "<a href=\"https://colab.research.google.com/github/Prabeen-Raj/100-Days-Of-Coding-Challenge/blob/main/Day%2021.ipynb\" target=\"_parent\"><img src=\"https://colab.research.google.com/assets/colab-badge.svg\" alt=\"Open In Colab\"/></a>"
      ]
    },
    {
      "cell_type": "markdown",
      "metadata": {
        "id": "3dGwFuoktYof"
      },
      "source": [
        "Guess the number\n",
        "\n"
      ]
    },
    {
      "cell_type": "code",
      "metadata": {
        "colab": {
          "base_uri": "https://localhost:8080/"
        },
        "id": "F88RfwQXqqui",
        "outputId": "e3539392-6fe6-4c9e-ff45-4c387c9c2f27"
      },
      "source": [
        "import random\n",
        "system_guess = str(random.randint(1000,9999))\n",
        "print('Guess the four digit number :) ')\n",
        "print('')\n",
        "\n",
        "chance = 5\n",
        "\n",
        "while chance > 0:\n",
        "  user_guess = input('Enter the number: ')\n",
        "  if user_guess == system_guess:\n",
        "    print('Yay Your Guess is RIGHT')\n",
        "    print('YOU WON :) ')\n",
        "    break\n",
        "  \n",
        "  else:\n",
        "    \n",
        "    chance -= 1\n",
        "    print(chance,'Left')\n",
        "    print('Try Again')\n",
        "    print('')\n",
        "    \n",
        "   \n",
        "\n",
        "    if chance < 1:\n",
        "      print('Correct GUESS:',system_guess)\n",
        "      print('')\n",
        "      print('YOU LOSE :(')\n"
      ],
      "execution_count": 26,
      "outputs": [
        {
          "output_type": "stream",
          "name": "stdout",
          "text": [
            "Guess the four digit number :) \n",
            "\n",
            "Enter the number: 3241\n",
            "4 Left\n",
            "Try Again\n",
            "\n",
            "Enter the number: 4321\n",
            "3 Left\n",
            "Try Again\n",
            "\n",
            "Enter the number: 3421\n",
            "2 Left\n",
            "Try Again\n",
            "\n",
            "Enter the number: 3412\n",
            "1 Left\n",
            "Try Again\n",
            "\n",
            "Enter the number: 1442\n",
            "0 Left\n",
            "Try Again\n",
            "\n",
            "Correct GUESS: 2640\n",
            "\n",
            "YOU LOSE :(\n"
          ]
        }
      ]
    }
  ]
}