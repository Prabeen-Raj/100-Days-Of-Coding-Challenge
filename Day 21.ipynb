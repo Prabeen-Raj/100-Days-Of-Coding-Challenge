{
  "nbformat": 4,
  "nbformat_minor": 0,
  "metadata": {
    "colab": {
      "name": "Day 21.ipynb",
      "provenance": [],
      "authorship_tag": "ABX9TyPsn40pKh2SwwHE82BtHcjO",
      "include_colab_link": true
    },
    "kernelspec": {
      "name": "python3",
      "display_name": "Python 3"
    },
    "language_info": {
      "name": "python"
    }
  },
  "cells": [
    {
      "cell_type": "markdown",
      "metadata": {
        "id": "view-in-github",
        "colab_type": "text"
      },
      "source": [
        "<a href=\"https://colab.research.google.com/github/Prabeen-Raj/100-Days-Of-Coding-Challenge/blob/main/Day%2021.ipynb\" target=\"_parent\"><img src=\"https://colab.research.google.com/assets/colab-badge.svg\" alt=\"Open In Colab\"/></a>"
      ]
    },
    {
      "cell_type": "markdown",
      "metadata": {
        "id": "BvbeZei8BLuv"
      },
      "source": [
        "Rock Paper Scissor"
      ]
    },
    {
      "cell_type": "code",
      "metadata": {
        "colab": {
          "base_uri": "https://localhost:8080/"
        },
        "id": "27rEwrqc7XO3",
        "outputId": "0afec15b-f58b-404b-e71a-c27ccdf61892"
      },
      "source": [
        "def rps(p1,p2):\n",
        "  if p1 == p2 :\n",
        "    print('Match Tie')\n",
        "  \n",
        "  elif p1 == 'rock':\n",
        "    if p2 == 'scissor':\n",
        "      print('player1 win')\n",
        "    else:\n",
        "      print('player2 win')\n",
        "  \n",
        "  elif p1 == 'scissor':\n",
        "    if p2 == 'paper':\n",
        "      print('player1 win')\n",
        "    else:\n",
        "      print('player2 win')\n",
        "  \n",
        "  elif p1 == 'paper':\n",
        "    if p2 == 'rock':\n",
        "      print('player1 win')\n",
        "    else:\n",
        "      print('player2 win')\n",
        "  \n",
        "  else:\n",
        "    print('Game End')\n",
        "\n",
        "player1 = input('rock,paper,scissor: ')\n",
        "player2 = input('rock,paper,scissor: ')\n",
        "rps(player1,player2)"
      ],
      "execution_count": 6,
      "outputs": [
        {
          "output_type": "stream",
          "name": "stdout",
          "text": [
            "rock,paper,scissor: rock\n",
            "rock,paper,scissor: paper\n",
            "player2 win\n"
          ]
        }
      ]
    },
    {
      "cell_type": "code",
      "metadata": {
        "colab": {
          "base_uri": "https://localhost:8080/"
        },
        "id": "5OsPqVJCA_N8",
        "outputId": "a48b0d1f-2194-4a8e-f830-7371a77f0b86"
      },
      "source": [
        "def rps(p1,p2):\n",
        "  if p1 == p2 :\n",
        "    print('Match Tie')\n",
        "  \n",
        "  elif p1 == 'rock':\n",
        "    if p2 == 'scissor':\n",
        "      print('player1 win')\n",
        "    else:\n",
        "      print('player2 win')\n",
        "  \n",
        "  elif p1 == 'scissor':\n",
        "    if p2 == 'paper':\n",
        "      print('player1 win')\n",
        "    else:\n",
        "      print('player2 win')\n",
        "  \n",
        "  elif p1 == 'paper':\n",
        "    if p2 == 'rock':\n",
        "      print('player1 win')\n",
        "    else:\n",
        "      print('player2 win')\n",
        "  \n",
        "  else:\n",
        "    print('Game End')\n",
        "\n",
        "player1 = input('rock,paper,scissor: ')\n",
        "player2 = input('rock,paper,scissor: ')\n",
        "rps(player1,player2)"
      ],
      "execution_count": 7,
      "outputs": [
        {
          "output_type": "stream",
          "name": "stdout",
          "text": [
            "rock,paper,scissor: rock\n",
            "rock,paper,scissor: rock\n",
            "Match Tie\n"
          ]
        }
      ]
    },
    {
      "cell_type": "code",
      "metadata": {
        "colab": {
          "base_uri": "https://localhost:8080/"
        },
        "id": "fWn6E7SjBEwq",
        "outputId": "2200f1b4-b520-4d6b-f70a-dadd140c0d05"
      },
      "source": [
        "def rps(p1,p2):\n",
        "  if p1 == p2 :\n",
        "    print('Match Tie')\n",
        "  \n",
        "  elif p1 == 'rock':\n",
        "    if p2 == 'scissor':\n",
        "      print('player1 win')\n",
        "    else:\n",
        "      print('player2 win')\n",
        "  \n",
        "  elif p1 == 'scissor':\n",
        "    if p2 == 'paper':\n",
        "      print('player1 win')\n",
        "    else:\n",
        "      print('player2 win')\n",
        "  \n",
        "  elif p1 == 'paper':\n",
        "    if p2 == 'rock':\n",
        "      print('player1 win')\n",
        "    else:\n",
        "      print('player2 win')\n",
        "  \n",
        "  else:\n",
        "    print('Game End')\n",
        "\n",
        "player1 = input('rock,paper,scissor: ')\n",
        "player2 = input('rock,paper,scissor: ')\n",
        "rps(player1,player2)"
      ],
      "execution_count": 8,
      "outputs": [
        {
          "output_type": "stream",
          "name": "stdout",
          "text": [
            "rock,paper,scissor: scissor\n",
            "rock,paper,scissor: paper\n",
            "player1 win\n"
          ]
        }
      ]
    }
  ]
}