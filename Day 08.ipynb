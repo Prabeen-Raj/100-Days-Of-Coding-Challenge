{
  "nbformat": 4,
  "nbformat_minor": 0,
  "metadata": {
    "colab": {
      "name": "Day 8.ipynb",
      "provenance": [],
      "authorship_tag": "ABX9TyNIrdzi2MXjiOtMygAAGHeH",
      "include_colab_link": true
    },
    "kernelspec": {
      "name": "python3",
      "display_name": "Python 3"
    },
    "language_info": {
      "name": "python"
    }
  },
  "cells": [
    {
      "cell_type": "markdown",
      "metadata": {
        "id": "view-in-github",
        "colab_type": "text"
      },
      "source": [
        "<a href=\"https://colab.research.google.com/github/Prabeen-Raj/100-Days-Of-Coding-Challenge/blob/main/Day%208.ipynb\" target=\"_parent\"><img src=\"https://colab.research.google.com/assets/colab-badge.svg\" alt=\"Open In Colab\"/></a>"
      ]
    },
    {
      "cell_type": "code",
      "metadata": {
        "colab": {
          "base_uri": "https://localhost:8080/"
        },
        "id": "wHe80-VY4RdI",
        "outputId": "6ca22d1f-ee83-4a2b-c82e-dbabf1a8b0fc"
      },
      "source": [
        "i = 0\n",
        "while i<=6:\n",
        "  print(i)\n",
        "  i += 1"
      ],
      "execution_count": 2,
      "outputs": [
        {
          "output_type": "stream",
          "name": "stdout",
          "text": [
            "0\n",
            "1\n",
            "2\n",
            "3\n",
            "4\n",
            "5\n",
            "6\n"
          ]
        }
      ]
    },
    {
      "cell_type": "code",
      "metadata": {
        "colab": {
          "base_uri": "https://localhost:8080/"
        },
        "id": "7DhXBfDB4vRo",
        "outputId": "9cf7d69f-e4bb-4d80-d069-8f41718c64ed"
      },
      "source": [
        "i = 0\n",
        "while i<=6:\n",
        "  print('Hello World')\n",
        "  i += 1"
      ],
      "execution_count": 3,
      "outputs": [
        {
          "output_type": "stream",
          "name": "stdout",
          "text": [
            "Hello World\n",
            "Hello World\n",
            "Hello World\n",
            "Hello World\n",
            "Hello World\n",
            "Hello World\n",
            "Hello World\n"
          ]
        }
      ]
    },
    {
      "cell_type": "code",
      "metadata": {
        "id": "keuYJanV40DO"
      },
      "source": [
        "i = 0\n",
        "while i<=6:\n",
        "  if i == 4:\n",
        "    print(i)\n",
        "    i += 1\n"
      ],
      "execution_count": null,
      "outputs": []
    }
  ]
}
