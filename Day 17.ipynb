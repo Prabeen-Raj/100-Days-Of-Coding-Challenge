{
  "nbformat": 4,
  "nbformat_minor": 0,
  "metadata": {
    "colab": {
      "name": "Day 17.ipynb",
      "provenance": [],
      "authorship_tag": "ABX9TyNO+dsLyhnuIcpoy0JI2SLs",
      "include_colab_link": true
    },
    "kernelspec": {
      "name": "python3",
      "display_name": "Python 3"
    },
    "language_info": {
      "name": "python"
    }
  },
  "cells": [
    {
      "cell_type": "markdown",
      "metadata": {
        "id": "view-in-github",
        "colab_type": "text"
      },
      "source": [
        "<a href=\"https://colab.research.google.com/github/Prabeen-Raj/100-Days-Of-Coding-Challenge/blob/main/Day%2017.ipynb\" target=\"_parent\"><img src=\"https://colab.research.google.com/assets/colab-badge.svg\" alt=\"Open In Colab\"/></a>"
      ]
    },
    {
      "cell_type": "markdown",
      "metadata": {
        "id": "kUgh_Rclty2S"
      },
      "source": [
        "Convert list to string "
      ]
    },
    {
      "cell_type": "code",
      "metadata": {
        "colab": {
          "base_uri": "https://localhost:8080/",
          "height": 35
        },
        "id": "el2E0W0_tw7i",
        "outputId": "25a58e88-8363-4b76-8d9a-5b799a172b89"
      },
      "source": [
        "list1 = ['H','e','l','l','o']\n",
        "\n",
        "def join_str(l):\n",
        "  str_ = ''\n",
        "  for i in l:\n",
        "    str_ += i\n",
        "  return str_\n",
        "\n",
        "join_str(list1)"
      ],
      "execution_count": 5,
      "outputs": [
        {
          "output_type": "execute_result",
          "data": {
            "application/vnd.google.colaboratory.intrinsic+json": {
              "type": "string"
            },
            "text/plain": [
              "'Hello'"
            ]
          },
          "metadata": {},
          "execution_count": 5
        }
      ]
    },
    {
      "cell_type": "markdown",
      "metadata": {
        "id": "4xbaZ59NvH1-"
      },
      "source": [
        "Get multiple inputs in single line"
      ]
    },
    {
      "cell_type": "code",
      "metadata": {
        "colab": {
          "base_uri": "https://localhost:8080/"
        },
        "id": "3gqkOrgmvWBE",
        "outputId": "7f848bf9-6a35-4fd1-80f5-fd00d22f2ed1"
      },
      "source": [
        "num1,num2 = map(int,input().split())\n",
        "print(num1)\n",
        "print(num2)"
      ],
      "execution_count": 8,
      "outputs": [
        {
          "output_type": "stream",
          "name": "stdout",
          "text": [
            "2 4\n",
            "2\n",
            "4\n"
          ]
        }
      ]
    },
    {
      "cell_type": "markdown",
      "metadata": {
        "id": "oMqxWMwDv3gF"
      },
      "source": [
        "Whatsapp Message Bomber"
      ]
    },
    {
      "cell_type": "code",
      "metadata": {
        "colab": {
          "base_uri": "https://localhost:8080/"
        },
        "id": "mnn1eSjQv2lC",
        "outputId": "a2bc5c8e-f26b-400a-852c-dc6015260935"
      },
      "source": [
        "pip install PyAutoGUI"
      ],
      "execution_count": 9,
      "outputs": [
        {
          "output_type": "stream",
          "name": "stdout",
          "text": [
            "Collecting PyAutoGUI\n",
            "  Downloading PyAutoGUI-0.9.53.tar.gz (59 kB)\n",
            "\u001b[?25l\r\u001b[K     |█████▌                          | 10 kB 21.5 MB/s eta 0:00:01\r\u001b[K     |███████████                     | 20 kB 27.0 MB/s eta 0:00:01\r\u001b[K     |████████████████▋               | 30 kB 12.4 MB/s eta 0:00:01\r\u001b[K     |██████████████████████▏         | 40 kB 9.6 MB/s eta 0:00:01\r\u001b[K     |███████████████████████████▊    | 51 kB 5.0 MB/s eta 0:00:01\r\u001b[K     |████████████████████████████████| 59 kB 3.1 MB/s \n",
            "\u001b[?25hCollecting pymsgbox\n",
            "  Downloading PyMsgBox-1.0.9.tar.gz (18 kB)\n",
            "  Installing build dependencies ... \u001b[?25l\u001b[?25hdone\n",
            "  Getting requirements to build wheel ... \u001b[?25l\u001b[?25hdone\n",
            "    Preparing wheel metadata ... \u001b[?25l\u001b[?25hdone\n",
            "Collecting PyTweening>=1.0.1\n",
            "  Downloading pytweening-1.0.4.tar.gz (14 kB)\n",
            "Collecting pyscreeze>=0.1.21\n",
            "  Downloading PyScreeze-0.1.28.tar.gz (25 kB)\n",
            "  Installing build dependencies ... \u001b[?25l\u001b[?25hdone\n",
            "  Getting requirements to build wheel ... \u001b[?25l\u001b[?25hdone\n",
            "    Preparing wheel metadata ... \u001b[?25l\u001b[?25hdone\n",
            "Collecting pygetwindow>=0.0.5\n",
            "  Downloading PyGetWindow-0.0.9.tar.gz (9.7 kB)\n",
            "Collecting mouseinfo\n",
            "  Downloading MouseInfo-0.1.3.tar.gz (10 kB)\n",
            "Collecting python3-Xlib\n",
            "  Downloading python3-xlib-0.15.tar.gz (132 kB)\n",
            "\u001b[K     |████████████████████████████████| 132 kB 11.2 MB/s \n",
            "\u001b[?25hCollecting pyrect\n",
            "  Downloading PyRect-0.1.4.tar.gz (15 kB)\n",
            "Requirement already satisfied: Pillow>=5.2.0 in /usr/local/lib/python3.7/dist-packages (from pyscreeze>=0.1.21->PyAutoGUI) (7.1.2)\n",
            "Collecting pyperclip\n",
            "  Downloading pyperclip-1.8.2.tar.gz (20 kB)\n",
            "Building wheels for collected packages: PyAutoGUI, pygetwindow, pyscreeze, PyTweening, mouseinfo, pymsgbox, pyperclip, pyrect, python3-Xlib\n",
            "  Building wheel for PyAutoGUI (setup.py) ... \u001b[?25l\u001b[?25hdone\n",
            "  Created wheel for PyAutoGUI: filename=PyAutoGUI-0.9.53-py3-none-any.whl size=36613 sha256=0818e247e8effd5dfa4c070e10977b64fa737716326e4b759a0537a06b43dcdf\n",
            "  Stored in directory: /root/.cache/pip/wheels/23/db/81/a14b5eca81ccb97c15e5bbea8d5394b8cbf6b36451d89dd648\n",
            "  Building wheel for pygetwindow (setup.py) ... \u001b[?25l\u001b[?25hdone\n",
            "  Created wheel for pygetwindow: filename=PyGetWindow-0.0.9-py3-none-any.whl size=11080 sha256=1a613cb97fdbc343d0f401d39c360428d3b6a880eec4516a4fe4d6881a8cd77c\n",
            "  Stored in directory: /root/.cache/pip/wheels/91/7e/35/62d9062a06cfc46fea39e26860253da36f258b3f3fd96c91c3\n",
            "  Building wheel for pyscreeze (PEP 517) ... \u001b[?25l\u001b[?25hdone\n",
            "  Created wheel for pyscreeze: filename=PyScreeze-0.1.28-py3-none-any.whl size=13023 sha256=c9f7cd366c66d8b4c8df35d1b5324076970b6f0663741d144da642efc2f9bcbb\n",
            "  Stored in directory: /root/.cache/pip/wheels/09/85/24/8db624ac125598fc40c4fbbff9d3b42e1c464d168567f72a42\n",
            "  Building wheel for PyTweening (setup.py) ... \u001b[?25l\u001b[?25hdone\n",
            "  Created wheel for PyTweening: filename=pytweening-1.0.4-py3-none-any.whl size=5854 sha256=ad7ea86ae036e2b8631adfe38e7d510933adc77b0c881aa9b1f959f0e19aa182\n",
            "  Stored in directory: /root/.cache/pip/wheels/13/0b/3b/73efc9b0421547a03ed3208c92a88ccddae2ce853c1e6da7e9\n",
            "  Building wheel for mouseinfo (setup.py) ... \u001b[?25l\u001b[?25hdone\n",
            "  Created wheel for mouseinfo: filename=MouseInfo-0.1.3-py3-none-any.whl size=10906 sha256=d1361c14a30deb32418935d378606b307354ff362157c0962be7c1c660db91e9\n",
            "  Stored in directory: /root/.cache/pip/wheels/43/9a/7f/373736bf37b94b358be41fb2f317a0f9940a1dcb7a733e1707\n",
            "  Building wheel for pymsgbox (PEP 517) ... \u001b[?25l\u001b[?25hdone\n",
            "  Created wheel for pymsgbox: filename=PyMsgBox-1.0.9-py3-none-any.whl size=7420 sha256=00b14de50374b3778d123598baf3a109b5b68e9ca582ace5e379da684474f124\n",
            "  Stored in directory: /root/.cache/pip/wheels/39/eb/0e/1587e06da34adf675ad26a113da25df542991f5095303374ef\n",
            "  Building wheel for pyperclip (setup.py) ... \u001b[?25l\u001b[?25hdone\n",
            "  Created wheel for pyperclip: filename=pyperclip-1.8.2-py3-none-any.whl size=11136 sha256=6b9775a5adb4e5f1a52c12db37b8c3dc71c5b633cfdd3c50566a5f95101d39ff\n",
            "  Stored in directory: /root/.cache/pip/wheels/9f/18/84/8f69f8b08169c7bae2dde6bd7daf0c19fca8c8e500ee620a28\n",
            "  Building wheel for pyrect (setup.py) ... \u001b[?25l\u001b[?25hdone\n",
            "  Created wheel for pyrect: filename=PyRect-0.1.4-py2.py3-none-any.whl size=9547 sha256=7609fda6e0675e4aa24c4782ae6c558e21a47c56cbf0f20d9d2ee58382d0272e\n",
            "  Stored in directory: /root/.cache/pip/wheels/97/5f/8e/6f26a5b00d46679ee2391a3542334274ce8bdaf7c6b0f3504c\n",
            "  Building wheel for python3-Xlib (setup.py) ... \u001b[?25l\u001b[?25hdone\n",
            "  Created wheel for python3-Xlib: filename=python3_xlib-0.15-py3-none-any.whl size=109517 sha256=f03a726bc6dd26fb7fa9eaf5d102dbfcfc9b9ba4e6c6457407b162318a2310d3\n",
            "  Stored in directory: /root/.cache/pip/wheels/67/6f/f2/18f51230840318e784c45e1392a0e174777e499251e42ddf86\n",
            "Successfully built PyAutoGUI pygetwindow pyscreeze PyTweening mouseinfo pymsgbox pyperclip pyrect python3-Xlib\n",
            "Installing collected packages: python3-Xlib, pyrect, pyperclip, PyTweening, pyscreeze, pymsgbox, pygetwindow, mouseinfo, PyAutoGUI\n",
            "Successfully installed PyAutoGUI-0.9.53 PyTweening-1.0.4 mouseinfo-0.1.3 pygetwindow-0.0.9 pymsgbox-1.0.9 pyperclip-1.8.2 pyrect-0.1.4 pyscreeze-0.1.28 python3-Xlib-0.15\n"
          ]
        }
      ]
    },
    {
      "cell_type": "code",
      "metadata": {
        "id": "E9A9PNx-wlUn"
      },
      "source": [
        "import pyautogui as pg\n",
        "import time\n",
        "\n",
        "time.sleep(10)\n",
        "\n",
        "txt = open('animals.txt','r')\n",
        "\n",
        "a = 'friend name is a'\n",
        "\n",
        "for i in txt:\n",
        "  pg.write(a+' '+i)\n",
        "  pg.press('Enter')"
      ],
      "execution_count": null,
      "outputs": []
    },
    {
      "cell_type": "markdown",
      "metadata": {
        "id": "ssfLISJCx5fr"
      },
      "source": [
        "https://youtu.be/ZBWCATF_mBM  "
      ]
    }
  ]
}