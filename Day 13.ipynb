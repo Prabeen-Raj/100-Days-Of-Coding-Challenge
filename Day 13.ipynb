{
  "nbformat": 4,
  "nbformat_minor": 0,
  "metadata": {
    "colab": {
      "name": "Day 13.ipynb",
      "provenance": [],
      "authorship_tag": "ABX9TyPRwySyckkiVq+JFEzv7fMn",
      "include_colab_link": true
    },
    "kernelspec": {
      "name": "python3",
      "display_name": "Python 3"
    },
    "language_info": {
      "name": "python"
    }
  },
  "cells": [
    {
      "cell_type": "markdown",
      "metadata": {
        "id": "view-in-github",
        "colab_type": "text"
      },
      "source": [
        "<a href=\"https://colab.research.google.com/github/Prabeen-Raj/100-Days-Of-Coding-Challenge/blob/main/Day%2013.ipynb\" target=\"_parent\"><img src=\"https://colab.research.google.com/assets/colab-badge.svg\" alt=\"Open In Colab\"/></a>"
      ]
    },
    {
      "cell_type": "code",
      "metadata": {
        "id": "PYbVb86SvjoK"
      },
      "source": [
        "class int_:\n",
        "  x = 10"
      ],
      "execution_count": 24,
      "outputs": []
    },
    {
      "cell_type": "code",
      "metadata": {
        "colab": {
          "base_uri": "https://localhost:8080/"
        },
        "id": "HHsmZgv3vrl-",
        "outputId": "2bdae14f-e570-48b1-dd8a-816f89ae9820"
      },
      "source": [
        "integer = int_()\n",
        "print(integer.x)"
      ],
      "execution_count": 25,
      "outputs": [
        {
          "output_type": "stream",
          "name": "stdout",
          "text": [
            "10\n"
          ]
        }
      ]
    },
    {
      "cell_type": "code",
      "metadata": {
        "id": "5cU3WaVPq0v0"
      },
      "source": [
        "class cricket_players:\n",
        "  def __init__(self,n,a,team):\n",
        "    self.name = n\n",
        "    self.age  = a\n",
        "    self.ipl_team = team\n"
      ],
      "execution_count": 2,
      "outputs": []
    },
    {
      "cell_type": "code",
      "metadata": {
        "colab": {
          "base_uri": "https://localhost:8080/"
        },
        "id": "np0TXwI3rykT",
        "outputId": "c59787bf-9037-44d3-9a07-fe1b9e24d30e"
      },
      "source": [
        "dhoni = cricket_players('MS Dhoni',36,'CSK')\n",
        "print(dhoni.name)"
      ],
      "execution_count": 3,
      "outputs": [
        {
          "output_type": "stream",
          "name": "stdout",
          "text": [
            "MS Dhoni\n"
          ]
        }
      ]
    },
    {
      "cell_type": "code",
      "metadata": {
        "colab": {
          "base_uri": "https://localhost:8080/"
        },
        "id": "rzjw88eIsFzr",
        "outputId": "31bd81db-bcaf-403a-e84e-9f5060ec9716"
      },
      "source": [
        "print(dhoni.age)"
      ],
      "execution_count": 4,
      "outputs": [
        {
          "output_type": "stream",
          "name": "stdout",
          "text": [
            "36\n"
          ]
        }
      ]
    },
    {
      "cell_type": "code",
      "metadata": {
        "colab": {
          "base_uri": "https://localhost:8080/"
        },
        "id": "TI1NkS0msJap",
        "outputId": "4a1485c4-f387-4f6b-cd5d-a41b980eb6e0"
      },
      "source": [
        "print(dhoni.ipl_team)"
      ],
      "execution_count": 6,
      "outputs": [
        {
          "output_type": "stream",
          "name": "stdout",
          "text": [
            "CSK\n"
          ]
        }
      ]
    },
    {
      "cell_type": "code",
      "metadata": {
        "id": "zJwL9M7wsQeX"
      },
      "source": [
        "class human:\n",
        " \n",
        "  def __init__(self,n,g,o):\n",
        "    self.name = n\n",
        "    self.game = g\n",
        "    self.occupation = 0\n",
        "  \n",
        "  def do_job(self):\n",
        "    \n",
        "    if self.game == 'cricket':\n",
        "      print(self.name,'plays',self.game)\n",
        "    \n",
        "    elif self.game == 'badmittion':\n",
        "      print(self.name,'plays',self.game)  \n"
      ],
      "execution_count": 19,
      "outputs": []
    },
    {
      "cell_type": "code",
      "metadata": {
        "colab": {
          "base_uri": "https://localhost:8080/"
        },
        "id": "VKXujoljtXtz",
        "outputId": "8de80cdf-ac77-42fa-e4ce-62fe94d7255a"
      },
      "source": [
        "_dhoni = human('MS Dhoni','cricket','Sports Player')\n",
        "sindhu = human('PV Sindhu','badmittion','Sports Player') \n",
        "_dhoni.do_job()\n",
        "sindhu.do_job()\n"
      ],
      "execution_count": 23,
      "outputs": [
        {
          "output_type": "stream",
          "name": "stdout",
          "text": [
            "MS Dhoni plays cricket\n",
            "PV Sindhu plays badmittion\n"
          ]
        }
      ]
    }
  ]
}