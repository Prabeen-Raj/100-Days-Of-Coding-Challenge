{
  "nbformat": 4,
  "nbformat_minor": 0,
  "metadata": {
    "colab": {
      "name": "Day 6.ipynb",
      "provenance": [],
      "authorship_tag": "ABX9TyONTxLecI/8pkhSyrkt9tIK",
      "include_colab_link": true
    },
    "kernelspec": {
      "name": "python3",
      "display_name": "Python 3"
    },
    "language_info": {
      "name": "python"
    }
  },
  "cells": [
    {
      "cell_type": "markdown",
      "metadata": {
        "id": "view-in-github",
        "colab_type": "text"
      },
      "source": [
        "<a href=\"https://colab.research.google.com/github/Prabeen-Raj/100-Days-Of-Coding-Challenge/blob/main/Day%206.ipynb\" target=\"_parent\"><img src=\"https://colab.research.google.com/assets/colab-badge.svg\" alt=\"Open In Colab\"/></a>"
      ]
    },
    {
      "cell_type": "code",
      "metadata": {
        "id": "hdqlmLN6j8NG"
      },
      "source": [
        "dict_ = {'name':'Prabeen','degree':'B.E','dep':'ECE'}"
      ],
      "execution_count": 1,
      "outputs": []
    },
    {
      "cell_type": "code",
      "metadata": {
        "colab": {
          "base_uri": "https://localhost:8080/"
        },
        "id": "1W7EBaRQkwSp",
        "outputId": "230eeaa3-1d56-4369-920f-42fd3dbd6f61"
      },
      "source": [
        "type(dict_)"
      ],
      "execution_count": 7,
      "outputs": [
        {
          "output_type": "execute_result",
          "data": {
            "text/plain": [
              "dict"
            ]
          },
          "metadata": {},
          "execution_count": 7
        }
      ]
    },
    {
      "cell_type": "code",
      "metadata": {
        "colab": {
          "base_uri": "https://localhost:8080/"
        },
        "id": "0Dwsaht3kpjj",
        "outputId": "51fec238-3ef8-458d-89d7-a2a5466478bb"
      },
      "source": [
        "len(dict_)"
      ],
      "execution_count": 6,
      "outputs": [
        {
          "output_type": "execute_result",
          "data": {
            "text/plain": [
              "3"
            ]
          },
          "metadata": {},
          "execution_count": 6
        }
      ]
    },
    {
      "cell_type": "code",
      "metadata": {
        "colab": {
          "base_uri": "https://localhost:8080/",
          "height": 35
        },
        "id": "bUeFucqQkbjS",
        "outputId": "39faa72d-073f-4068-9e99-8f8096e3b035"
      },
      "source": [
        "dict_['name']"
      ],
      "execution_count": 3,
      "outputs": [
        {
          "output_type": "execute_result",
          "data": {
            "application/vnd.google.colaboratory.intrinsic+json": {
              "type": "string"
            },
            "text/plain": [
              "'Prabeen'"
            ]
          },
          "metadata": {},
          "execution_count": 3
        }
      ]
    },
    {
      "cell_type": "code",
      "metadata": {
        "colab": {
          "base_uri": "https://localhost:8080/",
          "height": 35
        },
        "id": "uz1mcxIPki2k",
        "outputId": "952e5300-4331-4380-b29a-bab3486decc0"
      },
      "source": [
        "dict_['degree']"
      ],
      "execution_count": 5,
      "outputs": [
        {
          "output_type": "execute_result",
          "data": {
            "application/vnd.google.colaboratory.intrinsic+json": {
              "type": "string"
            },
            "text/plain": [
              "'B.E'"
            ]
          },
          "metadata": {},
          "execution_count": 5
        }
      ]
    },
    {
      "cell_type": "code",
      "metadata": {
        "colab": {
          "base_uri": "https://localhost:8080/",
          "height": 35
        },
        "id": "13iXd3gKk2RW",
        "outputId": "5b8e943e-4617-4f49-eba0-9c1189c2a7ad"
      },
      "source": [
        "dict_.get('name')"
      ],
      "execution_count": 8,
      "outputs": [
        {
          "output_type": "execute_result",
          "data": {
            "application/vnd.google.colaboratory.intrinsic+json": {
              "type": "string"
            },
            "text/plain": [
              "'Prabeen'"
            ]
          },
          "metadata": {},
          "execution_count": 8
        }
      ]
    },
    {
      "cell_type": "code",
      "metadata": {
        "colab": {
          "base_uri": "https://localhost:8080/"
        },
        "id": "gCO9LkhylIOZ",
        "outputId": "a5aa58ca-35e1-4fa2-8818-dd0aced9d802"
      },
      "source": [
        "dict_.values"
      ],
      "execution_count": 9,
      "outputs": [
        {
          "output_type": "execute_result",
          "data": {
            "text/plain": [
              "<function dict.values>"
            ]
          },
          "metadata": {},
          "execution_count": 9
        }
      ]
    },
    {
      "cell_type": "code",
      "metadata": {
        "colab": {
          "base_uri": "https://localhost:8080/"
        },
        "id": "bbOYqnGglTL_",
        "outputId": "0ced47f0-c80a-4d0e-a8a7-68d98786f397"
      },
      "source": [
        "dict_['dob']='11/11/2001'\n",
        "print(dict_)"
      ],
      "execution_count": 11,
      "outputs": [
        {
          "output_type": "stream",
          "name": "stdout",
          "text": [
            "{'name': 'Prabeen', 'degree': 'B.E', 'dep': 'ECE', 'dob': '11/11/2001'}\n"
          ]
        }
      ]
    },
    {
      "cell_type": "code",
      "metadata": {
        "colab": {
          "base_uri": "https://localhost:8080/"
        },
        "id": "EMAv6qKSlppC",
        "outputId": "e5aaf0b5-1d5b-4430-d15a-5e122af6e7d9"
      },
      "source": [
        "dict_['dob']='01/01/2001'\n",
        "print(dict_)"
      ],
      "execution_count": 13,
      "outputs": [
        {
          "output_type": "stream",
          "name": "stdout",
          "text": [
            "{'name': 'Prabeen', 'degree': 'B.E', 'dep': 'ECE', 'dob': '01/01/2001'}\n"
          ]
        }
      ]
    },
    {
      "cell_type": "code",
      "metadata": {
        "colab": {
          "base_uri": "https://localhost:8080/"
        },
        "id": "uqZZZnKal78f",
        "outputId": "45b77a86-390e-46ab-b20e-f3d0026d67e4"
      },
      "source": [
        "dict_.update({'dob':'03/03/2001'})\n",
        "print(dict_)"
      ],
      "execution_count": 14,
      "outputs": [
        {
          "output_type": "stream",
          "name": "stdout",
          "text": [
            "{'name': 'Prabeen', 'degree': 'B.E', 'dep': 'ECE', 'dob': '03/03/2001'}\n"
          ]
        }
      ]
    },
    {
      "cell_type": "code",
      "metadata": {
        "colab": {
          "base_uri": "https://localhost:8080/"
        },
        "id": "29BWjKvumOit",
        "outputId": "2d3f9a07-178f-45cd-a5a9-32f57fa0ca4b"
      },
      "source": [
        "for i in dict_:\n",
        "  print(i)"
      ],
      "execution_count": 16,
      "outputs": [
        {
          "output_type": "stream",
          "name": "stdout",
          "text": [
            "name\n",
            "degree\n",
            "dep\n",
            "dob\n"
          ]
        }
      ]
    },
    {
      "cell_type": "code",
      "metadata": {
        "colab": {
          "base_uri": "https://localhost:8080/"
        },
        "id": "1ZHhcyComnhr",
        "outputId": "ef97e675-fece-40ae-b0e7-cdc62cd4f74d"
      },
      "source": [
        "for j in dict_:\n",
        "  print(dict_[j])"
      ],
      "execution_count": 17,
      "outputs": [
        {
          "output_type": "stream",
          "name": "stdout",
          "text": [
            "Prabeen\n",
            "B.E\n",
            "ECE\n",
            "03/03/2001\n"
          ]
        }
      ]
    },
    {
      "cell_type": "code",
      "metadata": {
        "colab": {
          "base_uri": "https://localhost:8080/"
        },
        "id": "Zzeuwu4Amstm",
        "outputId": "c5849b81-0fc4-4114-dc9d-f157e8d1ab39"
      },
      "source": [
        "dict_2 = dict_.copy()\n",
        "print(dict_2)"
      ],
      "execution_count": 18,
      "outputs": [
        {
          "output_type": "stream",
          "name": "stdout",
          "text": [
            "{'name': 'Prabeen', 'degree': 'B.E', 'dep': 'ECE', 'dob': '03/03/2001'}\n"
          ]
        }
      ]
    },
    {
      "cell_type": "code",
      "metadata": {
        "id": "QR3jVKD5m4ql"
      },
      "source": [
        "dict_.clear()\n",
        "dict_2.clear()"
      ],
      "execution_count": 19,
      "outputs": []
    }
  ]
}
