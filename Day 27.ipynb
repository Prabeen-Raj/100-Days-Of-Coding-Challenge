{
  "nbformat": 4,
  "nbformat_minor": 0,
  "metadata": {
    "colab": {
      "name": "Day 27.ipynb",
      "provenance": [],
      "authorship_tag": "ABX9TyMriroIgcsUANrU8lgzw1Gc",
      "include_colab_link": true
    },
    "kernelspec": {
      "name": "python3",
      "display_name": "Python 3"
    },
    "language_info": {
      "name": "python"
    }
  },
  "cells": [
    {
      "cell_type": "markdown",
      "metadata": {
        "id": "view-in-github",
        "colab_type": "text"
      },
      "source": [
        "<a href=\"https://colab.research.google.com/github/Prabeen-Raj/100-Days-Of-Coding-Challenge/blob/main/Day%2027.ipynb\" target=\"_parent\"><img src=\"https://colab.research.google.com/assets/colab-badge.svg\" alt=\"Open In Colab\"/></a>"
      ]
    },
    {
      "cell_type": "code",
      "metadata": {
        "id": "vGu268UZWMR1"
      },
      "source": [
        "class Solution:\n",
        "    \n",
        "    def twoSum(self, nums: List[int], target: int):\n",
        "            \n",
        "            answer = []\n",
        "            for i in range(len(nums)):\n",
        "                for j in range(len(nums)):\n",
        "                    output = nums[i] + nums[j]\n",
        "                    if int(output)==int(target):\n",
        "                        answer.append(i)\n",
        "                        answer.append(j)\n",
        "                        return answer\n",
        "                        break\n",
        "             "
      ],
      "execution_count": null,
      "outputs": []
    },
    {
      "cell_type": "code",
      "metadata": {
        "id": "VgQ8CbjLWgjN"
      },
      "source": [
        ""
      ],
      "execution_count": null,
      "outputs": []
    }
  ]
}