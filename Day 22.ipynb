{
  "nbformat": 4,
  "nbformat_minor": 0,
  "metadata": {
    "colab": {
      "name": "Day 22.ipynb",
      "provenance": [],
      "authorship_tag": "ABX9TyPTf0TYyhudAqgRuxUGXHHh",
      "include_colab_link": true
    },
    "kernelspec": {
      "name": "python3",
      "display_name": "Python 3"
    },
    "language_info": {
      "name": "python"
    }
  },
  "cells": [
    {
      "cell_type": "markdown",
      "metadata": {
        "id": "view-in-github",
        "colab_type": "text"
      },
      "source": [
        "<a href=\"https://colab.research.google.com/github/Prabeen-Raj/100-Days-Of-Coding-Challenge/blob/main/Day%2022.ipynb\" target=\"_parent\"><img src=\"https://colab.research.google.com/assets/colab-badge.svg\" alt=\"Open In Colab\"/></a>"
      ]
    },
    {
      "cell_type": "code",
      "metadata": {
        "colab": {
          "base_uri": "https://localhost:8080/"
        },
        "id": "2MF3SxmFaFvC",
        "outputId": "e188005b-5ab0-43b3-afaa-69845f5f9534"
      },
      "source": [
        "list1 = ['I','you']\n",
        "list2 = ['play','love']\n",
        "list3 = ['cricket','hockey']\n",
        "for i in range(len(list1)):\n",
        "  for j in range(len(list2)):\n",
        "    for k in range(len(list3)):\n",
        "      print(list1[int(i)],list2[int(j)],list3[int(k)])"
      ],
      "execution_count": null,
      "outputs": [
        {
          "output_type": "stream",
          "name": "stdout",
          "text": [
            "I play cricket\n",
            "I play hockey\n",
            "I love cricket\n",
            "I love hockey\n",
            "you play cricket\n",
            "you play hockey\n",
            "you love cricket\n",
            "you love hockey\n"
          ]
        }
      ]
    },
    {
      "cell_type": "code",
      "metadata": {
        "colab": {
          "base_uri": "https://localhost:8080/"
        },
        "id": "ZBblH8Q_cBNO",
        "outputId": "ee7b44cc-5763-4d7a-c81b-47637ca42425"
      },
      "source": [
        "list1 = [1,2,3]\n",
        "list2 = [4,5,6]\n",
        "for i in range(len(list1)):\n",
        "  print(list1[i])\n",
        "  for j in range(len(list2)):\n",
        "    print(list2[j])"
      ],
      "execution_count": null,
      "outputs": [
        {
          "output_type": "stream",
          "name": "stdout",
          "text": [
            "1\n",
            "4\n",
            "5\n",
            "6\n",
            "2\n",
            "4\n",
            "5\n",
            "6\n",
            "3\n",
            "4\n",
            "5\n",
            "6\n"
          ]
        }
      ]
    },
    {
      "cell_type": "code",
      "metadata": {
        "colab": {
          "base_uri": "https://localhost:8080/"
        },
        "id": "DQp_bmxsc1Zr",
        "outputId": "568f315f-fec6-4648-a3db-237e4e0cffc8"
      },
      "source": [
        "import string\n",
        "print('All letters')\n",
        "print(string.ascii_letters)\n",
        "print('all digits')\n",
        "print(string.digits)\n",
        "print('all special characters')\n",
        "print(string.punctuation)"
      ],
      "execution_count": null,
      "outputs": [
        {
          "output_type": "stream",
          "name": "stdout",
          "text": [
            "All letters\n",
            "abcdefghijklmnopqrstuvwxyzABCDEFGHIJKLMNOPQRSTUVWXYZ\n",
            "all digits\n",
            "0123456789\n",
            "all special characters\n",
            "!\"#$%&'()*+,-./:;<=>?@[\\]^_`{|}~\n"
          ]
        }
      ]
    },
    {
      "cell_type": "markdown",
      "metadata": {
        "id": "ohnpSAQYdfw0"
      },
      "source": [
        "Password Generator "
      ]
    },
    {
      "cell_type": "code",
      "metadata": {
        "id": "d5GvrEXsdSei",
        "colab": {
          "base_uri": "https://localhost:8080/"
        },
        "outputId": "bc625ee4-1feb-458a-aad3-7a4a1b794411"
      },
      "source": [
        "import random\n",
        "import string\n",
        "\n",
        "def pwd_gen(size):\n",
        "  str_ = string.ascii_letters+string.punctuation+string.digits\n",
        "  pwd  = ''\n",
        "  for i in range(size):\n",
        "    new_pwd = random.choice(str_)\n",
        "    pwd += new_pwd\n",
        "  print('Your Password:',pwd)\n",
        "\n",
        "lenght = int(input('Enter the size of password: '))\n",
        "pwd_gen(lenght)\n"
      ],
      "execution_count": 14,
      "outputs": [
        {
          "output_type": "stream",
          "name": "stdout",
          "text": [
            "Enter the size of password: 7\n",
            "Your Password: Aga&G2(\n"
          ]
        }
      ]
    }
  ]
}