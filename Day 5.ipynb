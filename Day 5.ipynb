{
  "nbformat": 4,
  "nbformat_minor": 0,
  "metadata": {
    "colab": {
      "name": "Day 5.ipynb",
      "provenance": [],
      "authorship_tag": "ABX9TyPNKfmcZCRv8rZltdSBNxZP",
      "include_colab_link": true
    },
    "kernelspec": {
      "name": "python3",
      "display_name": "Python 3"
    },
    "language_info": {
      "name": "python"
    }
  },
  "cells": [
    {
      "cell_type": "markdown",
      "metadata": {
        "id": "view-in-github",
        "colab_type": "text"
      },
      "source": [
        "<a href=\"https://colab.research.google.com/github/Prabeen-Raj/100-Days-Of-Coding-Challenge/blob/main/Day%205.ipynb\" target=\"_parent\"><img src=\"https://colab.research.google.com/assets/colab-badge.svg\" alt=\"Open In Colab\"/></a>"
      ]
    },
    {
      "cell_type": "code",
      "metadata": {
        "id": "zhlOOmrGT5KL"
      },
      "source": [
        "set1 ={1,2,3,4,5,6,7,8}"
      ],
      "execution_count": 1,
      "outputs": []
    },
    {
      "cell_type": "code",
      "metadata": {
        "colab": {
          "base_uri": "https://localhost:8080/"
        },
        "id": "8Zl5K-XtUGOt",
        "outputId": "0e15d3ef-6bb8-4601-8d9e-a7598e913913"
      },
      "source": [
        "type(set1)"
      ],
      "execution_count": 2,
      "outputs": [
        {
          "output_type": "execute_result",
          "data": {
            "text/plain": [
              "set"
            ]
          },
          "metadata": {},
          "execution_count": 2
        }
      ]
    },
    {
      "cell_type": "code",
      "metadata": {
        "colab": {
          "base_uri": "https://localhost:8080/"
        },
        "id": "WJXlr9xVUJS1",
        "outputId": "94e459f5-50e0-480e-94c4-60550380373c"
      },
      "source": [
        "len(set1)"
      ],
      "execution_count": 3,
      "outputs": [
        {
          "output_type": "execute_result",
          "data": {
            "text/plain": [
              "8"
            ]
          },
          "metadata": {},
          "execution_count": 3
        }
      ]
    },
    {
      "cell_type": "code",
      "metadata": {
        "colab": {
          "base_uri": "https://localhost:8080/"
        },
        "id": "snue8KHzUMFV",
        "outputId": "bf4427df-d317-44f1-a66e-891d8b9e9c85"
      },
      "source": [
        "for i in set1:\n",
        "  print(i)"
      ],
      "execution_count": 4,
      "outputs": [
        {
          "output_type": "stream",
          "name": "stdout",
          "text": [
            "1\n",
            "2\n",
            "3\n",
            "4\n",
            "5\n",
            "6\n",
            "7\n",
            "8\n"
          ]
        }
      ]
    },
    {
      "cell_type": "code",
      "metadata": {
        "id": "3AlF8I8vUPOE",
        "colab": {
          "base_uri": "https://localhost:8080/"
        },
        "outputId": "bb8b27f6-ee30-4174-b705-f7a523f9b646"
      },
      "source": [
        "even = [j for j in set1 if j%2==0]\n",
        "print(even)"
      ],
      "execution_count": 7,
      "outputs": [
        {
          "output_type": "stream",
          "name": "stdout",
          "text": [
            "[2, 4, 6, 8]\n"
          ]
        }
      ]
    },
    {
      "cell_type": "code",
      "metadata": {
        "colab": {
          "base_uri": "https://localhost:8080/"
        },
        "id": "8zUCwyhAUmk6",
        "outputId": "86bc919f-874e-46d7-b3f7-a73ac55e18dc"
      },
      "source": [
        "odd = [k for k in set1 if k%2==1]\n",
        "print(odd)"
      ],
      "execution_count": 8,
      "outputs": [
        {
          "output_type": "stream",
          "name": "stdout",
          "text": [
            "[1, 3, 5, 7]\n"
          ]
        }
      ]
    },
    {
      "cell_type": "code",
      "metadata": {
        "colab": {
          "base_uri": "https://localhost:8080/"
        },
        "id": "UUAeVnlxU3fz",
        "outputId": "6bed3af5-ffd3-4c21-eeda-e2d402e0f8f8"
      },
      "source": [
        "set1.add(9)\n",
        "print(set1)"
      ],
      "execution_count": 10,
      "outputs": [
        {
          "output_type": "stream",
          "name": "stdout",
          "text": [
            "{1, 2, 3, 4, 5, 6, 7, 8, 9}\n"
          ]
        }
      ]
    },
    {
      "cell_type": "code",
      "metadata": {
        "colab": {
          "base_uri": "https://localhost:8080/"
        },
        "id": "BAr_NaJ0VLEV",
        "outputId": "895dca18-1c6d-433c-f415-a4253ec2e64a"
      },
      "source": [
        "set1.add(10)\n",
        "print(set1)"
      ],
      "execution_count": 11,
      "outputs": [
        {
          "output_type": "stream",
          "name": "stdout",
          "text": [
            "{1, 2, 3, 4, 5, 6, 7, 8, 9, 10}\n"
          ]
        }
      ]
    },
    {
      "cell_type": "code",
      "metadata": {
        "colab": {
          "base_uri": "https://localhost:8080/"
        },
        "id": "-GrJMTRlVTHX",
        "outputId": "5c8a1470-1df1-4010-ac9b-2275cdcf7660"
      },
      "source": [
        "set1.discard(10)\n",
        "print(set1)"
      ],
      "execution_count": 12,
      "outputs": [
        {
          "output_type": "stream",
          "name": "stdout",
          "text": [
            "{1, 2, 3, 4, 5, 6, 7, 8, 9}\n"
          ]
        }
      ]
    },
    {
      "cell_type": "code",
      "metadata": {
        "colab": {
          "base_uri": "https://localhost:8080/"
        },
        "id": "8Igb5LdMVZcB",
        "outputId": "8f84e6ba-0669-421a-e058-d8f4412e211d"
      },
      "source": [
        "set1.discard(9)\n",
        "print(set1)"
      ],
      "execution_count": 13,
      "outputs": [
        {
          "output_type": "stream",
          "name": "stdout",
          "text": [
            "{1, 2, 3, 4, 5, 6, 7, 8}\n"
          ]
        }
      ]
    },
    {
      "cell_type": "code",
      "metadata": {
        "colab": {
          "base_uri": "https://localhost:8080/"
        },
        "id": "PlpG4dAcVm3N",
        "outputId": "ee0cca78-818e-4550-cd97-1fbf3e394867"
      },
      "source": [
        "set2 = {9,10}\n",
        "set3 = set1.union(set2)\n",
        "print(set3)"
      ],
      "execution_count": 14,
      "outputs": [
        {
          "output_type": "stream",
          "name": "stdout",
          "text": [
            "{1, 2, 3, 4, 5, 6, 7, 8, 9, 10}\n"
          ]
        }
      ]
    },
    {
      "cell_type": "code",
      "metadata": {
        "id": "tgWxrZicWGx1"
      },
      "source": [
        "del set3"
      ],
      "execution_count": 15,
      "outputs": []
    }
  ]
}