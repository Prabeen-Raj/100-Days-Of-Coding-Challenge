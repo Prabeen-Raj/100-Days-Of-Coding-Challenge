{
  "nbformat": 4,
  "nbformat_minor": 0,
  "metadata": {
    "colab": {
      "name": "Day 26.ipynb",
      "provenance": [],
      "authorship_tag": "ABX9TyM8SIh0R+/U0lbGSngUNvve",
      "include_colab_link": true
    },
    "kernelspec": {
      "name": "python3",
      "display_name": "Python 3"
    },
    "language_info": {
      "name": "python"
    }
  },
  "cells": [
    {
      "cell_type": "markdown",
      "metadata": {
        "id": "view-in-github",
        "colab_type": "text"
      },
      "source": [
        "<a href=\"https://colab.research.google.com/github/Prabeen-Raj/100-Days-Of-Coding-Challenge/blob/main/Day%2026.ipynb\" target=\"_parent\"><img src=\"https://colab.research.google.com/assets/colab-badge.svg\" alt=\"Open In Colab\"/></a>"
      ]
    },
    {
      "cell_type": "code",
      "metadata": {
        "colab": {
          "base_uri": "https://localhost:8080/"
        },
        "id": "1W0GlDg8PBDU",
        "outputId": "713db2a2-3a8f-4f3c-d15c-9a587d097121"
      },
      "source": [
        "\n",
        "def sort1(nums):\n",
        "    for i in range(len(nums)):\n",
        "        new_index = abs(nums[i]) - 1\n",
        "        print(new_index)\n",
        "        if nums[new_index] > 0:\n",
        "            nums[new_index] *= -1\n",
        "        \n",
        "       \n",
        "    result = []   \n",
        "    \n",
        "    for i in range(1, len(nums) + 1):\n",
        "        if nums[i - 1] > 0:\n",
        "            result.append(i)  \n",
        "    print(result) \n",
        "    \n",
        "nums1 = [4,3,2,7,8,2,3,1]\n",
        "sort1(nums1)\n"
      ],
      "execution_count": 1,
      "outputs": [
        {
          "output_type": "stream",
          "name": "stdout",
          "text": [
            "3\n",
            "2\n",
            "1\n",
            "6\n",
            "7\n",
            "1\n",
            "2\n",
            "0\n",
            "[5, 6]\n"
          ]
        }
      ]
    }
  ]
}