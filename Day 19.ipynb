{
  "nbformat": 4,
  "nbformat_minor": 0,
  "metadata": {
    "colab": {
      "name": "Day 19.ipynb",
      "provenance": [],
      "authorship_tag": "ABX9TyP6XTObeTsE097qqlQZQkvm",
      "include_colab_link": true
    },
    "kernelspec": {
      "name": "python3",
      "display_name": "Python 3"
    },
    "language_info": {
      "name": "python"
    }
  },
  "cells": [
    {
      "cell_type": "markdown",
      "metadata": {
        "id": "view-in-github",
        "colab_type": "text"
      },
      "source": [
        "<a href=\"https://colab.research.google.com/github/Prabeen-Raj/100-Days-Of-Coding-Challenge/blob/main/Day%2019.ipynb\" target=\"_parent\"><img src=\"https://colab.research.google.com/assets/colab-badge.svg\" alt=\"Open In Colab\"/></a>"
      ]
    },
    {
      "cell_type": "code",
      "metadata": {
        "id": "EbJUyGazIa3V",
        "colab": {
          "base_uri": "https://localhost:8080/"
        },
        "outputId": "c331c89a-0997-4fe7-8800-b331582c2650"
      },
      "source": [
        "text1 = 'common'\n",
        "text2 = 'mommy'\n",
        "common_str = list(set(text1) and set(text2))\n",
        "for i in common_str:\n",
        "  print(i)\n"
      ],
      "execution_count": 6,
      "outputs": [
        {
          "output_type": "stream",
          "name": "stdout",
          "text": [
            "m\n",
            "o\n",
            "y\n"
          ]
        }
      ]
    },
    {
      "cell_type": "code",
      "metadata": {
        "colab": {
          "base_uri": "https://localhost:8080/"
        },
        "id": "kEJKU5ZJqEAd",
        "outputId": "84d974dc-2002-4c9d-cf46-e758434cc442"
      },
      "source": [
        "import random\n",
        "for i in range(10):\n",
        "  print(random.randint(1000,9999))\n"
      ],
      "execution_count": 7,
      "outputs": [
        {
          "output_type": "stream",
          "name": "stdout",
          "text": [
            "9314\n",
            "1352\n",
            "4205\n",
            "8764\n",
            "8837\n",
            "1468\n",
            "1476\n",
            "6288\n",
            "1278\n",
            "2772\n"
          ]
        }
      ]
    },
    {
      "cell_type": "code",
      "metadata": {
        "colab": {
          "base_uri": "https://localhost:8080/"
        },
        "id": "wjvlKlY5qgHb",
        "outputId": "489e39ba-e0e5-479b-d89c-1ab78a8cb52b"
      },
      "source": [
        "import platform\n",
        "os = platform.system()\n",
        "print(os)"
      ],
      "execution_count": 12,
      "outputs": [
        {
          "output_type": "stream",
          "name": "stdout",
          "text": [
            "Linux\n"
          ]
        }
      ]
    },
    {
      "cell_type": "code",
      "metadata": {
        "colab": {
          "base_uri": "https://localhost:8080/"
        },
        "id": "VxJ-TRBZrDcx",
        "outputId": "cbbef686-a876-41a1-b9b9-74918833801a"
      },
      "source": [
        "import platform\n",
        "x = dir(platform)\n",
        "print(x)"
      ],
      "execution_count": 13,
      "outputs": [
        {
          "output_type": "stream",
          "name": "stdout",
          "text": [
            "['DEV_NULL', '_UNIXCONFDIR', '_WIN32_CLIENT_RELEASES', '_WIN32_SERVER_RELEASES', '__builtins__', '__cached__', '__copyright__', '__doc__', '__file__', '__loader__', '__name__', '__package__', '__spec__', '__version__', '__warningregistry__', '_codename_file_re', '_comparable_version', '_component_re', '_default_architecture', '_dist_try_harder', '_distributor_id_file_re', '_follow_symlinks', '_ironpython26_sys_version_parser', '_ironpython_sys_version_parser', '_java_getprop', '_libc_search', '_linux_distribution', '_lsb_release_version', '_mac_ver_xml', '_node', '_norm_version', '_parse_release_file', '_platform', '_platform_cache', '_pypy_sys_version_parser', '_release_file_re', '_release_filename', '_release_version', '_supported_dists', '_sys_version', '_sys_version_cache', '_sys_version_parser', '_syscmd_file', '_syscmd_uname', '_syscmd_ver', '_uname_cache', '_ver_output', '_ver_stages', 'architecture', 'collections', 'dist', 'java_ver', 'libc_ver', 'linux_distribution', 'mac_ver', 'machine', 'node', 'os', 'platform', 'popen', 'processor', 'python_branch', 'python_build', 'python_compiler', 'python_implementation', 'python_revision', 'python_version', 'python_version_tuple', 're', 'release', 'subprocess', 'sys', 'system', 'system_alias', 'uname', 'uname_result', 'version', 'warnings', 'win32_ver']\n"
          ]
        }
      ]
    },
    {
      "cell_type": "code",
      "metadata": {
        "colab": {
          "base_uri": "https://localhost:8080/"
        },
        "id": "B1tE8ceCriW5",
        "outputId": "28bd8cd3-9f5f-4a32-8cc2-c992071ace97"
      },
      "source": [
        "import sys\n",
        "print(sys.path)"
      ],
      "execution_count": 16,
      "outputs": [
        {
          "output_type": "stream",
          "name": "stdout",
          "text": [
            "['', '/content', '/env/python', '/usr/lib/python37.zip', '/usr/lib/python3.7', '/usr/lib/python3.7/lib-dynload', '/usr/local/lib/python3.7/dist-packages', '/usr/lib/python3/dist-packages', '/usr/local/lib/python3.7/dist-packages/IPython/extensions', '/root/.ipython']\n"
          ]
        }
      ]
    },
    {
      "cell_type": "code",
      "metadata": {
        "colab": {
          "base_uri": "https://localhost:8080/"
        },
        "id": "NO_ztAl8rzmj",
        "outputId": "bb17d79a-7160-491f-dd7a-4060239985b2"
      },
      "source": [
        "import socket\n",
        "print(socket.gethostname())"
      ],
      "execution_count": 20,
      "outputs": [
        {
          "output_type": "stream",
          "name": "stdout",
          "text": [
            "bb6f8320c11d\n"
          ]
        }
      ]
    },
    {
      "cell_type": "code",
      "metadata": {
        "colab": {
          "base_uri": "https://localhost:8080/"
        },
        "id": "2AljYZT_t-Jb",
        "outputId": "f865d17d-8342-4e46-a489-b188a43f2f3f"
      },
      "source": [
        "import calendar\n",
        "\n",
        "c = calendar.TextCalendar(calendar.MONDAY)\n",
        "c.prmonth(2021, 11)"
      ],
      "execution_count": 28,
      "outputs": [
        {
          "output_type": "stream",
          "name": "stdout",
          "text": [
            "   November 2021\n",
            "Mo Tu We Th Fr Sa Su\n",
            " 1  2  3  4  5  6  7\n",
            " 8  9 10 11 12 13 14\n",
            "15 16 17 18 19 20 21\n",
            "22 23 24 25 26 27 28\n",
            "29 30\n"
          ]
        }
      ]
    },
    {
      "cell_type": "code",
      "metadata": {
        "colab": {
          "base_uri": "https://localhost:8080/",
          "height": 478
        },
        "id": "d7pBW6ess387",
        "outputId": "68a7f922-6b42-4367-99aa-78a09001cad0"
      },
      "source": [
        "import signal\n",
        "import os\n",
        "import time\n",
        "\n",
        "\n",
        "def receive_signal(signum, stack):\n",
        "    print('Received:', signum)\n",
        "\n",
        "\n",
        "# Register signal handlers\n",
        "signal.signal(signal.SIGUSR1, receive_signal)\n",
        "signal.signal(signal.SIGUSR2, receive_signal)\n",
        "\n",
        "# Print the process ID so it can be used with 'kill'\n",
        "# to send this program signals.\n",
        "print('My PID is:', os.getpid())\n",
        "\n",
        "while True:\n",
        "    print('Waiting...')\n",
        "    time.sleep(3)"
      ],
      "execution_count": 24,
      "outputs": [
        {
          "output_type": "stream",
          "name": "stdout",
          "text": [
            "My PID is: 71\n",
            "Waiting...\n",
            "Waiting...\n",
            "Waiting...\n",
            "Waiting...\n",
            "Waiting...\n",
            "Waiting...\n",
            "Waiting...\n",
            "Waiting...\n",
            "Waiting...\n",
            "Waiting...\n",
            "Waiting...\n",
            "Waiting...\n",
            "Waiting...\n",
            "Waiting...\n",
            "Waiting...\n"
          ]
        },
        {
          "output_type": "error",
          "ename": "KeyboardInterrupt",
          "evalue": "ignored",
          "traceback": [
            "\u001b[0;31m---------------------------------------------------------------------------\u001b[0m",
            "\u001b[0;31mKeyboardInterrupt\u001b[0m                         Traceback (most recent call last)",
            "\u001b[0;32m<ipython-input-24-f30c51c25651>\u001b[0m in \u001b[0;36m<module>\u001b[0;34m()\u001b[0m\n\u001b[1;32m     18\u001b[0m \u001b[0;32mwhile\u001b[0m \u001b[0;32mTrue\u001b[0m\u001b[0;34m:\u001b[0m\u001b[0;34m\u001b[0m\u001b[0;34m\u001b[0m\u001b[0m\n\u001b[1;32m     19\u001b[0m     \u001b[0mprint\u001b[0m\u001b[0;34m(\u001b[0m\u001b[0;34m'Waiting...'\u001b[0m\u001b[0;34m)\u001b[0m\u001b[0;34m\u001b[0m\u001b[0;34m\u001b[0m\u001b[0m\n\u001b[0;32m---> 20\u001b[0;31m     \u001b[0mtime\u001b[0m\u001b[0;34m.\u001b[0m\u001b[0msleep\u001b[0m\u001b[0;34m(\u001b[0m\u001b[0;36m3\u001b[0m\u001b[0;34m)\u001b[0m\u001b[0;34m\u001b[0m\u001b[0;34m\u001b[0m\u001b[0m\n\u001b[0m",
            "\u001b[0;31mKeyboardInterrupt\u001b[0m: "
          ]
        }
      ]
    },
    {
      "cell_type": "code",
      "metadata": {
        "id": "82p7Acv5vvsz"
      },
      "source": [
        ""
      ],
      "execution_count": null,
      "outputs": []
    }
  ]
}