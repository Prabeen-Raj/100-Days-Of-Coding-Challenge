{
  "nbformat": 4,
  "nbformat_minor": 0,
  "metadata": {
    "colab": {
      "name": "Day 18.ipynb",
      "provenance": [],
      "authorship_tag": "ABX9TyNgmADnak0j/d/TzbwYa5Rp",
      "include_colab_link": true
    },
    "kernelspec": {
      "name": "python3",
      "display_name": "Python 3"
    },
    "language_info": {
      "name": "python"
    }
  },
  "cells": [
    {
      "cell_type": "markdown",
      "metadata": {
        "id": "view-in-github",
        "colab_type": "text"
      },
      "source": [
        "<a href=\"https://colab.research.google.com/github/Prabeen-Raj/100-Days-Of-Coding-Challenge/blob/main/Day%2018.ipynb\" target=\"_parent\"><img src=\"https://colab.research.google.com/assets/colab-badge.svg\" alt=\"Open In Colab\"/></a>"
      ]
    },
    {
      "cell_type": "code",
      "metadata": {
        "colab": {
          "base_uri": "https://localhost:8080/"
        },
        "id": "9FUle3NKizK3",
        "outputId": "c6aa316c-d972-4765-c830-e0d36bb5a724"
      },
      "source": [
        "def breakPalindrone(palindromeStr):\n",
        "    size = len(palindromeStr)\n",
        "    a = palindromeStr[::-1]\n",
        "    if a == palindromeStr:\n",
        "        new_str = ''\n",
        "        for i in range(int(size)):\n",
        "            if i == int(1):\n",
        "                continue\n",
        "            new_str += palindromeStr[i]\n",
        "\n",
        "        output = palindromeStr[1]+new_str\n",
        "        print(output)\n",
        "\n",
        "if __name__ == '__main__':\n",
        "    list1 = ['radar','refer','malayalam','mom','madam']\n",
        "    for i in list1:\n",
        "        breakPalindrone(i)\n",
        "    "
      ],
      "execution_count": 5,
      "outputs": [
        {
          "output_type": "stream",
          "name": "stdout",
          "text": [
            "ardar\n",
            "erfer\n",
            "amlayalam\n",
            "omm\n",
            "amdam\n"
          ]
        }
      ]
    },
    {
      "cell_type": "markdown",
      "metadata": {
        "id": "KWzFq8HKscHd"
      },
      "source": [
        "Spliting a list in a  K equal sequence"
      ]
    },
    {
      "cell_type": "code",
      "metadata": {
        "colab": {
          "base_uri": "https://localhost:8080/"
        },
        "id": "WyhFiekgrwI9",
        "outputId": "53969c86-59ca-4810-ff05-4a7f6519467a"
      },
      "source": [
        "def partitionArray(k,numbers):\n",
        "  size = len(numbers)\n",
        "  len1 = int(size)/int(k)\n",
        "  if len1%2==0:\n",
        "    print('Yes')\n",
        "  else:\n",
        "    print('No')\n",
        "\n",
        "if __name__ == '__main__':\n",
        "  k = 2\n",
        "  numbers = [1,2,3,4]\n",
        "  partitionArray(k,numbers)\n",
        "\n",
        "\n",
        "\n",
        "\n"
      ],
      "execution_count": 6,
      "outputs": [
        {
          "output_type": "stream",
          "name": "stdout",
          "text": [
            "Yes\n"
          ]
        }
      ]
    }
  ]
}