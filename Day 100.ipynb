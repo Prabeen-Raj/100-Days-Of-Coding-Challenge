{
  "nbformat": 4,
  "nbformat_minor": 0,
  "metadata": {
    "colab": {
      "name": "Day 10.ipynb",
      "provenance": [],
      "authorship_tag": "ABX9TyO56kuxMqoWkjcDz+palnYB",
      "include_colab_link": true
    },
    "kernelspec": {
      "name": "python3",
      "display_name": "Python 3"
    },
    "language_info": {
      "name": "python"
    }
  },
  "cells": [
    {
      "cell_type": "markdown",
      "metadata": {
        "id": "view-in-github",
        "colab_type": "text"
      },
      "source": [
        "<a href=\"https://colab.research.google.com/github/Prabeen-Raj/100-Days-Of-Coding-Challenge/blob/main/Day%2010.ipynb\" target=\"_parent\"><img src=\"https://colab.research.google.com/assets/colab-badge.svg\" alt=\"Open In Colab\"/></a>"
      ]
    },
    {
      "cell_type": "code",
      "metadata": {
        "id": "EOh8fdxvM8Xc"
      },
      "source": [
        "def first_function():\n",
        "  print('HELLO EVERYONE')"
      ],
      "execution_count": 1,
      "outputs": []
    },
    {
      "cell_type": "code",
      "metadata": {
        "colab": {
          "base_uri": "https://localhost:8080/"
        },
        "id": "rDVyKBbON4kt",
        "outputId": "99e117b3-19da-45e4-f5cc-3e35d93d7e74"
      },
      "source": [
        "first_function()"
      ],
      "execution_count": 6,
      "outputs": [
        {
          "output_type": "stream",
          "name": "stdout",
          "text": [
            "HELLO EVERYONE\n"
          ]
        }
      ]
    },
    {
      "cell_type": "code",
      "metadata": {
        "id": "z8qnrJzOOGlu"
      },
      "source": [
        "def add(a,b):\n",
        "  c = a+b\n",
        "  return c"
      ],
      "execution_count": 12,
      "outputs": []
    },
    {
      "cell_type": "code",
      "metadata": {
        "colab": {
          "base_uri": "https://localhost:8080/"
        },
        "id": "4dfgUsqQOO_v",
        "outputId": "b826d33a-ddc3-4557-c960-1a76b3f4c6de"
      },
      "source": [
        "add(1,2)"
      ],
      "execution_count": 13,
      "outputs": [
        {
          "output_type": "execute_result",
          "data": {
            "text/plain": [
              "3"
            ]
          },
          "metadata": {},
          "execution_count": 13
        }
      ]
    },
    {
      "cell_type": "code",
      "metadata": {
        "id": "0HbzVVGZOxZc"
      },
      "source": [
        "def rank(name,rank):\n",
        "  print(name,'got',str(rank)+'st rank')"
      ],
      "execution_count": 17,
      "outputs": []
    },
    {
      "cell_type": "code",
      "metadata": {
        "colab": {
          "base_uri": "https://localhost:8080/"
        },
        "id": "S0CImYzwPRGo",
        "outputId": "2dfcd00b-735c-43c8-e110-ac43945f989a"
      },
      "source": [
        "rank('paul',1)"
      ],
      "execution_count": 19,
      "outputs": [
        {
          "output_type": "stream",
          "name": "stdout",
          "text": [
            "paul got 1st rank\n"
          ]
        }
      ]
    },
    {
      "cell_type": "code",
      "metadata": {
        "id": "1H5aaw1wPXWi"
      },
      "source": [
        "def random(*fruits):\n",
        "  print('Thulsi like',fruits[2])"
      ],
      "execution_count": 28,
      "outputs": []
    },
    {
      "cell_type": "code",
      "metadata": {
        "colab": {
          "base_uri": "https://localhost:8080/"
        },
        "id": "d7tIJgjuQEns",
        "outputId": "a20c5ee2-dc78-4b0a-85d6-4607f369b38d"
      },
      "source": [
        "random('apple','orange','grapes')"
      ],
      "execution_count": 29,
      "outputs": [
        {
          "output_type": "stream",
          "name": "stdout",
          "text": [
            "Thulsi like grapes\n"
          ]
        }
      ]
    },
    {
      "cell_type": "code",
      "metadata": {
        "id": "ES4ZXfQvQlns"
      },
      "source": [
        "def random_new(fruit1 = 'apple',fruit2 = 'orange', fruit3 = 'grapes'):\n",
        "  print('Now a days thulsi hates eating',fruit3)"
      ],
      "execution_count": 31,
      "outputs": []
    },
    {
      "cell_type": "code",
      "metadata": {
        "colab": {
          "base_uri": "https://localhost:8080/"
        },
        "id": "5jYVrEctRDJp",
        "outputId": "dd95ac64-5784-4b79-c1b7-808e31d494d8"
      },
      "source": [
        "random_new()"
      ],
      "execution_count": 32,
      "outputs": [
        {
          "output_type": "stream",
          "name": "stdout",
          "text": [
            "Now a days thulsi hates eating grapes\n"
          ]
        }
      ]
    },
    {
      "cell_type": "code",
      "metadata": {
        "id": "VNNaMbPtRNaE"
      },
      "source": [
        "def random2(**fruit):\n",
        "  print('thulsi like to eat',fruit['fruit3'],'now')\n"
      ],
      "execution_count": 35,
      "outputs": []
    },
    {
      "cell_type": "code",
      "metadata": {
        "colab": {
          "base_uri": "https://localhost:8080/"
        },
        "id": "6lOY7FkGSDRW",
        "outputId": "a8208f02-7f94-4dc4-9e72-1e893706ed52"
      },
      "source": [
        "random2(fruit1 = 'apple',fruit2 = 'orange', fruit3 = 'grapes')"
      ],
      "execution_count": 36,
      "outputs": [
        {
          "output_type": "stream",
          "name": "stdout",
          "text": [
            "thulsi like to eat grapes now\n"
          ]
        }
      ]
    }
  ]
}
